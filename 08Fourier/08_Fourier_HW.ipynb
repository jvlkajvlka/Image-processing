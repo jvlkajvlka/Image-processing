{
 "cells": [
  {
   "cell_type": "markdown",
   "metadata": {
    "pycharm": {
     "name": "#%% md\n"
    }
   },
   "source": [
    "## Zadanie domowe: Projektowanie filtru metodą okien\n",
    "\n",
    "Zauważone w zadaniu z filtracją artefakty są efektem zastosowania filtru idealnego (wycięcia odpowiednich częstotliwości).\n",
    "Aby je usunąć, należy filtr idealny w dziedzinie przestrzennej przemnożyć przez dwuwymiarowe okno (stworzone na podstawie jednowymiarowego).\n",
    "\n",
    "1. Zdefiniuj rozmiar filtra (np. 21).\n",
    "\n",
    "2. Stwórz okno np. Hamminga (`np.Hmming`) o zadanym rozmiarze.\n",
    "\n",
    "3. Na podstawie tego okna stwórz okno dwuwymiarowe: $F = f^Tf$.\n",
    "Można to zrealizować prostą instrukcją:\n",
    "        hanning2d = np.outer(hanning, hanning)\n",
    "\n",
    "4. Stwórz wzorcowy filtr idealny tak samo jak w poprzednim ćwiczeniu.\n",
    "Jego rozmiar musi być taki sam jak zdefiniowany w punkcie pierwszym.\n",
    "\n",
    "5. Generalna zasada jest taka, że należy obliczyć odwrotną transformatę Fouriera filtru idealnego.\n",
    "Aby zagwarantować jednak dobrą lokalizację i symetryczność tworzonego filtru wykorzystuje się dodatkowe rotacje i przesunięcia.\n",
    "\n",
    "        FilterFRot = np.rot90(np.fft.fftshift(np.rot90(FilterF, 2)), 2)\n",
    "        FilterFRot3 = np.dstack((FilterFRot, np.zeros(FilterFRot.shape)))\n",
    "        FilterFidft = cv2.idft(np.float32(FilterFRot3),\n",
    "                        flags=cv2.DFT_SCALE | cv2.DFT_COMPLEX_OUTPUT)\n",
    "        FilterFI = np.rot90(np.fft.fftshift(FilterFidft[:, :, 0]), 2)\n",
    "\n",
    "6. Aby otrzymać poprawny filtr należy teraz pomnożyć dwuwymiarowe okno ze stworzonym filtrem idealnym w dziedzinie przestrzennej.\n",
    "\n",
    "7. Stworzony filtr powinien zostać znowu przeniesiony do dziedziny częstotliwości.\n",
    "Należy jednak rozszerzyć go tak, aby miał taki sam rozmiar jak filtrowany obraz.\n",
    "Operację tę wykonaj tak samo jak w poprzednim ćwiczeniu (`cv2.copyMakeBorder`).\n",
    "Oblicz transformatę Fouriera i wykonaj przesunięcie.\n",
    "Następnie oblicz wartość bezwzględną (dzięki temu filtr nie będzie wpływał na fazę).\n",
    "Wynikiem jest poprawiony filtr w dziedzinie częstotliwości.\n",
    "\n",
    "8. Przeprowadź filtrację obrazu *lena.bmp* za pomocą zaprojektowanego filtra.\n",
    "Wyświetl filtr, oraz wynik filtracji.\n",
    "Do wyświetlenia filtru możesz użyć przestrzeń częstotliwości wygenerowaną w poprzednim zadaniu (*FSpaceRowsM* i *FSpaceColsM*)."
   ]
  },
  {
   "cell_type": "code",
   "execution_count": null,
   "metadata": {
    "pycharm": {
     "name": "#%% Zadanie 4 - okna\n"
    }
   },
   "outputs": [],
   "source": [
    "import cv2\n",
    "from matplotlib import pyplot as plt\n",
    "import numpy as np\n",
    "import math\n",
    "import os\n",
    "\n",
    "# Load required files\n",
    "if not os.path.exists(\"literki.bmp\") :\n",
    "    !wget https://raw.githubusercontent.com/vision-agh/poc_sw/master/08_Fourier/literki.bmp --no-check-certificate\n",
    "if not os.path.exists(\"wzorA.bmp\") :\n",
    "    !wget https://raw.githubusercontent.com/vision-agh/poc_sw/master/08_Fourier/wzorA.bmp --no-check-certificate\n",
    "if not os.path.exists(\"lena.bmp\") :\n",
    "    !wget https://raw.githubusercontent.com/vision-agh/poc_sw/master/08_Fourier/lena.bmp --no-check-certificatef\n",
    "\n",
    "plt.gray()          \n",
    "image = cv2.imread('lena.bmp', cv2.IMREAD_GRAYSCALE) \n",
    "\n",
    "#########################################################################################################\n",
    "\n",
    "filterSize = 21\n",
    "\n",
    "hamming = np.hamming(filterSize)\n",
    "hamming2d= np.outer(hamming, hamming)\n",
    "\n",
    "#########################################################################################################\n",
    "\n",
    "FSpaceRows = 2 * np.fft.fftshift(np.fft.fftfreq(filterSize))\n",
    "FSpaceRowsM = np.outer(FSpaceRows, np.ones([1, filterSize]))\n",
    "FSpaceCols = 2 * np.fft.fftshift(np.fft.fftfreq(filterSize))\n",
    "FSpaceColsM = np.outer(np.ones([1, filterSize]), FSpaceCols)\n",
    "\n",
    "FreqR = np.sqrt(np.square(FSpaceRowsM) + np.square(FSpaceColsM))\n",
    "FilterF = FreqR <= 0.1\n",
    "\n",
    "#########################################################################################################\n",
    "\n",
    "FilterFRot = np.rot90(np.fft.fftshift(np.rot90(FilterF, 2)), 2)\n",
    "FilterFRot3 = np.dstack((FilterFRot, np.zeros(FilterFRot.shape)))\n",
    "FilterFidft = cv2.idft(np.float32(FilterFRot3), flags=cv2.DFT_SCALE | cv2.DFT_COMPLEX_OUTPUT)\n",
    "FilterFI = np.rot90(np.fft.fftshift(FilterFidft[:, :, 0]), 2)\n",
    "\n",
    "#########################################################################################################\n",
    "\n",
    "filterH = FilterFI*hamming2d\n",
    "\n",
    "#########################################################################################################\n",
    "\n",
    "filterHResized= cv2.copyMakeBorder(filterH, 0, 491, 0, 491, cv2.BORDER_CONSTANT, value=0)\n",
    "dftFiler = cv2.dft(np.float32(filterHResized),flags=cv2.DFT_SCALE | cv2.DFT_COMPLEX_OUTPUT)\n",
    "shiftedFilter=np.fft.fftshift(dftFiler)\n",
    "\n",
    "A, F = cv2.cartToPolar(shiftedFilter[0], shiftedFilter[1])\n",
    "\n",
    "dftImage = cv2.dft(np.float32(image),flags = cv2.DFT_COMPLEX_OUTPUT)\n",
    "shifted=np.fft.fftshift(dftImage)\n",
    "shiftedF = shifted * A\n",
    "fIshifted = np.fft.ifftshift(shiftedF)\n",
    "\n",
    "result = abs(cv2.idft(fIshifted))\n",
    "result = cv2.magnitude(result[:,:,0],result[:,:,1])\n",
    "\n",
    "#########################################################################################################\n",
    "plt.imshow(result)\n",
    "\n",
    "figFilter = plt.figure(figsize=(10,10))\n",
    "axsFilter = figFilter.add_subplot(projection='3d')\n",
    "axsFilter.plot_surface(FSpaceRowsM, FSpaceColsM, filterH, rstride=1, cstride=1, cmap=plt.get_cmap('gray'), linewidth=0)\n"
   ]
  },
  {
   "cell_type": "code",
   "execution_count": null,
   "metadata": {},
   "outputs": [],
   "source": []
  }
 ],
 "metadata": {
  "kernelspec": {
   "display_name": "Python 3",
   "language": "python",
   "name": "python3"
  },
  "language_info": {
   "codemirror_mode": {
    "name": "ipython",
    "version": 3
   },
   "file_extension": ".py",
   "mimetype": "text/x-python",
   "name": "python",
   "nbconvert_exporter": "python",
   "pygments_lexer": "ipython3",
   "version": "3.8.3"
  }
 },
 "nbformat": 4,
 "nbformat_minor": 4
}
