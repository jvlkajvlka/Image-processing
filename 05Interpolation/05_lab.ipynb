{
 "cells": [
  {
   "cell_type": "markdown",
   "metadata": {
    "pycharm": {
     "name": "#%% md\n"
    }
   },
   "source": [
    "# Rozdzielczość obrazu. Interpolacja.\n",
    "\n",
    "## Cel zajęć:\n",
    "\n",
    "* zapoznanie z pojęciem rozdzielczości przestrzennej (rozmiaru obrazu),\n",
    "* metody interpolacji najbliższego sąsiada oraz dwuliniowa,\n",
    "* zapoznanie z pojęciem rozdzielczości dpi (ang. dots per inch),\n",
    "* zapoznanie z pojęciem rozdzielczości  poziomów jasności (dla obrazów w skali szarości),\n",
    "* zadanie domowe: interpolacja dwusześcienna.\n",
    "\n",
    "## Rodzielczość przestrzenna\n",
    "\n",
    "Dyskretna reprezentacja obrazu to zwykle macierz dwu (N x M - obraz w skali szarości) lub trójwymiarowa (N x M x 3 - obraz kolorowy).\n",
    "Przez rozdzielczość przestrzenną rozumie się liczbę pikseli z których składa się obraz.\n",
    "Przykładowo rozdzielczość VGA to  640 x 480, Full HD to 1920 x 1080, a 4K to 3840 x 2160.\n",
    "Rozdzielczość obrazu można modyfikować (zwiększać/zmniejszać), co nazywa się skalowaniem obrazu.\n",
    "Warto wiedzieć, że zwiększenie rozdzielczości obrazu nie zwiększa ilości informacji, a jedynie liczbę pikseli (w sensie \"lepiej nie będzie\").\n",
    "Ponadto skalowanie zawsze wprowadza pewne zniekształcenia, nawet przy zmniejszaniu rozmiaru.\n",
    "\n",
    "W ramach niniejszego ćwiczenia zapoznamy się z metodami interpolacji, które są podstawą takich operacji jak: przybliżanie (zoom), zmiana rozdzielczości, rotacja obrazu, czy też korekcje geometryczne.\n",
    "Jako przykład posłuży nam zmiana rozdzielczości, czyli inaczej mówiąc przepróbkowanie obrazu.\n",
    "Dla przypomnienia - interpolacja to wykorzystanie znanych danych (wartości dla tzw. punktów węzłowych) do określania wartości w nieznanych lokalizacjach.\n",
    "\n",
    "Zacznijmy od prostego przykładu.\n",
    "Mamy obraz o rozdzielczości 500 x 500 pikseli, a chcemy go powiększyć do 750 x 750 pikseli -- tj. o~współczynnik 1,5.\n",
    "Wyobraźmy sobie zatem, że dysponujemy siatką 750 x 750 o takim samym \"rozmiarze\" pojedynczego piksela jak obraz oryginalny.\n",
    "Następnie siatkę tą ,,ścieśniamy'', tak aby miała rozmiar 500 x 500.\n",
    "W rezultacie otrzymana siatka będzie miała mniejszy rozmiar pojedynczego piksela niż obraz oryginalny.\n",
    "Schematycznie przedstawiono to na poniższym rysunku.\n",
    "\n",
    "![Ilustracja interpolacji](https://raw.githubusercontent.com/vision-agh/poc_sw/master/05_Resolution/img/interEx57.png)\n",
    "\n",
    "\n",
    "Pokazuje on przykład interpolacji: a) obraz 5x5, b) oraz 7x7, c) obraz 7x7 zmiejszony do 5x5.\n",
    "\n",
    "\n",
    "Chcemy teraz poszczególnym elementom nowej siatki przyporządkować piksele z obrazu wejściowego.\n",
    "Jedną z możliwości jest poszukanie \"najbliższego\" piksela w oryginalnym obrazie i wzięcie jego wartości.\n",
    "Przykład takiego postępowania zaprezentowano na  poniższym rysunku.\n",
    "\n",
    "![Ilustracja najbliższego sąsiada](https://raw.githubusercontent.com/vision-agh/poc_sw/master/05_Resolution/img/inteNNEx.png)\n",
    "\n",
    "Kilka słów wyjasnienia.\n",
    "Kolorem ciemnoszarym oznaczono siatkę 5x5, a czarnym 7x7 (już po przeskalowaniu).\n",
    "Nasze zadanie sprowadza się do zalezienia dla każdej kropki czarnej (umowny środek piksela), najbliżej leżącej kropki szarej - oznaczono to dla pierwszych trzech wierzszy obrazu liniami.\n",
    "\n",
    "Po zrealizowaniu powyższego kroku dla całego obrazu wykonujemy \"rozciągniecie\" do rozdzielczości 750 x 750.\n",
    "W ten sposób uzyskujemy finalny efekt zmiany rozdzielczości.\n",
    "\n",
    "## Interpolacja metodą najbliższego sąsiada\n",
    "\n",
    "Takie postępowanie określa się mianem **interpolacji metodą najbliższego sąsiada** (ang. *nearest neighbour interpolation*).\n",
    "W ramach pierwszego etapu ćwiczenia zaimplementujemy to podejście.\n",
    "\n",
    "1. Ładujemy potrzebne biblioteki, pobieramy obrazy z repozytorium, wczytujemy jeden z obrazów testowych (*parrot.bmp*) i wyświetlamy go:"
   ]
  },
  {
   "cell_type": "code",
   "execution_count": null,
   "metadata": {
    "jupyter": {
     "outputs_hidden": false
    },
    "pycharm": {
     "name": "#%%\n"
    }
   },
   "outputs": [],
   "source": [
    "import cv2\n",
    "import os\n",
    "from matplotlib import pyplot as plt\n",
    "import numpy as np\n",
    "\n",
    "# Load required files\n",
    "if not os.path.exists(\"parrot.bmp\") :\n",
    "    !wget https://raw.githubusercontent.com/vision-agh/poc_sw/master/05_Resolution/parrot.bmp --no-check-certificate\n",
    "if not os.path.exists(\"clock.bmp\") :\n",
    "    !wget https://raw.githubusercontent.com/vision-agh/poc_sw/master/05_Resolution/clock.bmp --no-check-certificate\n",
    "if not os.path.exists(\"chessboard.bmp\") :\n",
    "    !wget https://raw.githubusercontent.com/vision-agh/poc_sw/master/05_Resolution/chessboard.bmp --no-check-certificate\n",
    "if not os.path.exists(\"lena.bmp\") :\n",
    "    !wget https://raw.githubusercontent.com/vision-agh/poc_sw/master/05_Resolution/lena.bmp --no-check-certificate\n",
    "if not os.path.exists(\"firetruck.jpg\") :\n",
    "    !wget https://raw.githubusercontent.com/vision-agh/poc_sw/master/05_Resolution/firetruck.jpg --no-check-certificate\n",
    "\n",
    "\n",
    "I = cv2.imread('parrot.bmp')           # Read image\n",
    "I = cv2.cvtColor(I, cv2.COLOR_BGR2GRAY) # Convert to RGB\n",
    "\n",
    "I2 = cv2.imread('clock.bmp')           # Read image\n",
    "I2= cv2.cvtColor(I2, cv2.COLOR_BGR2GRAY) # Convert to RGB\n",
    "\n",
    "I3 = cv2.imread('chessboard.bmp')           # Read image\n",
    "I3 = cv2.cvtColor(I3, cv2.COLOR_BGR2GRAY) # Convert to RGB\n",
    "\n",
    "# Display\n",
    "plt.figure(figsize=(I.shape[0]/100,I.shape[1]/100), dpi=200)\n",
    "plt.imshow(I2, cmap =\"gray\")\n",
    "plt.xticks([]), plt.yticks([])  # Hides the graph ticks and x / y axis\n",
    "plt.show()\n",
    "\n",
    "print(I2.shape)"
   ]
  },
  {
   "cell_type": "markdown",
   "metadata": {
    "pycharm": {
     "name": "#%% md\n"
    }
   },
   "source": [
    "2. Definiujemy funkcję do interpolacji metodą najbliższego sąsiada.\n",
    "\n",
    "Jako argumenty wejściowe powinna ona przyjąć obraz oraz współczynniki skalowania w pionie i poziomie.\n",
    "Wyjściem powinien być natomiast obraz w nowej rozdzielczości.\n",
    "Wewnątrz należy:\n",
    "\n",
    "* odczytać wymiary obrazka wejściowego,\n",
    "* wyliczyć wymiary obrazka wyjściowego (tj. wymnożyć wymiary wejściowe przez skalę i zaokrąglić do liczb całkowitych),\n",
    "* utworzyć nowy obraz o ww. rozmiarze,\n",
    "* w pętli po nowym obrazie, dla każdego piksela, wykorzystując współczynniki skalowania, odnaleźć najbliższego sąsiada.\n",
    "\n",
    "\n"
   ]
  },
  {
   "cell_type": "code",
   "execution_count": null,
   "metadata": {
    "jupyter": {
     "outputs_hidden": false
    },
    "pycharm": {
     "name": "#%%\n"
    }
   },
   "outputs": [],
   "source": [
    "I = cv2.imread('parrot.bmp')           # Read image\n",
    "I = cv2.cvtColor(I, cv2.COLOR_BGR2GRAY) # Convert to RGB\n",
    "\n",
    "def interpolation_nearest_neighbor(img,vertical_ratio,horizontal_ratio):\n",
    "    (X,Y) = img.shape\n",
    "#     X to nasza wysokość-pion, Y to nasza szerokość-poziom\n",
    "    height_img_resized  = int(X*vertical_ratio)\n",
    "    width_img_resized  = int(Y*horizontal_ratio)\n",
    "\n",
    "    new_img = np.empty([height_img_resized, width_img_resized],dtype=np.uint8)\n",
    "    \n",
    "    for idx_row_resized  in range (0,height_img_resized):\n",
    "        for idx_col_resized  in range (0,width_img_resized):\n",
    "            neighbor_height= round(idx_row_resized/vertical_ratio)\n",
    "            neighbor_width= round(idx_col_resized/horizontal_ratio)\n",
    "            \n",
    "            if X<=neighbor_height:\n",
    "                neighbor_height = X-1 \n",
    "    \n",
    "            if Y<=neighbor_width:\n",
    "                neighbor_width = Y-1 \n",
    "                \n",
    "            new_img[idx_row_resized,idx_col_resized] = img[(neighbor_height),(neighbor_width)]\n",
    "        \n",
    "    return new_img "
   ]
  },
  {
   "cell_type": "markdown",
   "metadata": {},
   "source": [
    "3. Testujemy stworzoną funkcję:\n",
    "    * dla skali 1.5, 1.5 i obrazka *parrot*,\n",
    "    * dla 2.5, 2.5 - tu okaże się, że do kodu trzeba dopisać zabezpieczenie przed wyjściem poza zakres,\n",
    "    * dla niejednakowych skal np. 1.5 i 2.5,\n",
    "    * dla skal mniejszych od 1,\n",
    "    * dla niesymetrycznego obrazka *clock*,\n",
    "    * dla obrazka z szachownicą *chessboard*.\n",
    "\n",
    "Uwaga: proszę dla powyższych przypadków przygotować osobne sekcje kodu - tak, aby wyświetlały się wszystkie rozważane przypadki.\n",
    "\n",
    "Wykonana metoda jest bardzo prosta i szybka, ale wprowadza pewne niepożądane artefakty, w szczególnie źle odwzorowane są linie proste.\n",
    "Z drugiej strony sprawdza się w pewnych nietypowych przypadkach.\n",
    "Zostanie to zademonstrowane w dalszej części ćwiczenia."
   ]
  },
  {
   "cell_type": "code",
   "execution_count": null,
   "metadata": {
    "jupyter": {
     "outputs_hidden": false
    },
    "pycharm": {
     "name": "#%%\n"
    }
   },
   "outputs": [],
   "source": [
    "plt.gray()\n",
    "plt.xticks([]), plt.yticks([])  \n",
    "plt.imshow(interpolation_nearest_neighbor(I,1.5,1.5))     "
   ]
  },
  {
   "cell_type": "code",
   "execution_count": null,
   "metadata": {},
   "outputs": [],
   "source": [
    "plt.xticks([]), plt.yticks([])  \n",
    "plt.imshow(interpolation_nearest_neighbor(I,2.5,2.5))"
   ]
  },
  {
   "cell_type": "code",
   "execution_count": null,
   "metadata": {},
   "outputs": [],
   "source": [
    "plt.xticks([]), plt.yticks([])  \n",
    "plt.imshow(interpolation_nearest_neighbor(I,1.5,2.5))"
   ]
  },
  {
   "cell_type": "code",
   "execution_count": null,
   "metadata": {
    "scrolled": true
   },
   "outputs": [],
   "source": [
    "plt.xticks([]), plt.yticks([])  \n",
    "plt.imshow(interpolation_nearest_neighbor(I,0.5,0.5))"
   ]
  },
  {
   "cell_type": "code",
   "execution_count": null,
   "metadata": {},
   "outputs": [],
   "source": [
    "plt.xticks([]), plt.yticks([])  \n",
    "plt.imshow(interpolation_nearest_neighbor(I2,1.5,1.5))"
   ]
  },
  {
   "cell_type": "code",
   "execution_count": null,
   "metadata": {},
   "outputs": [],
   "source": [
    "plt.xticks([]), plt.yticks([])  \n",
    "plt.imshow(interpolation_nearest_neighbor(I2,1.5,2))"
   ]
  },
  {
   "cell_type": "code",
   "execution_count": null,
   "metadata": {},
   "outputs": [],
   "source": [
    "plt.xticks([]), plt.yticks([])  \n",
    "plt.imshow(interpolation_nearest_neighbor(I3,1.5,1.5))"
   ]
  },
  {
   "cell_type": "code",
   "execution_count": null,
   "metadata": {},
   "outputs": [],
   "source": [
    "plt.xticks([]), plt.yticks([])  \n",
    "plt.imshow(interpolation_nearest_neighbor(I3,0.5,0.5))"
   ]
  },
  {
   "cell_type": "markdown",
   "metadata": {
    "pycharm": {
     "name": "#%% md\n"
    }
   },
   "source": [
    "## Interpolacja dwuliniowa\n",
    "\n",
    "W praktyce, lepszym rozwiązaniem zwykle okazuje tzw. **interpolacja dwuliniowa** (ang. *bilinear interpolation*).\n",
    "Wykorzystuje ona informację o czterech najbliższych sąsiadach do określenia nowej wartości piksela.\n",
    "\n",
    "Jeśli przez $(i,j)$ oznaczymy współrzędne poszukiwanego piksela, a przez $I(i,j)$ jego jasność (składową w~odcieniach szarości) to jego wartość można obliczyć wykorzystując równanie:\n",
    "\\begin{equation}\n",
    "I(i,j) = a \\cdot i + b \\cdot j+ c \\cdot i \\cdot j + d\n",
    "\\end{equation}\n",
    "gdzie: współczynniki $a,b,c,d$ można wyliczyć na podstawie czterech najbliższych sąsiadów.\n",
    "\n",
    "![Ilustracja dwuliniowej](https://raw.githubusercontent.com/vision-agh/poc_sw/master/05_Resolution/img/interABCD.png)\n",
    "\n",
    "Prześledźmy to na przykładzie z powyższego rysunku.\n",
    "Niech współrzędne poszczególnych punktów to $A = (j_1,i_1)$, $B = (j_1,i_2)$, $ C= (j_2,i_2)$ oraz $D = (j_2,i_1)$.\n",
    "W pierwszej kolejności dokonujemy interpolacji wartości w punktach $AB$ i $CD$ -- czyli poziomo.\n",
    "Wychodząc od równania prostej otrzymujemy:\n",
    "\n",
    "\\begin{equation}\n",
    "f(AB) \\approx \\frac{i_2 - i}{i_2-i_1}f(A) + \\frac{i - i_1}{i_2-i_1}f(B)\n",
    "\\end{equation}\n",
    "\n",
    "\\begin{equation}\n",
    "f(CD) \\approx \\frac{i_2 - i}{i_2-i_1}f(D) + \\frac{i - i_1}{i_2-i_1}f(C)\n",
    "\\end{equation}\n",
    "\n",
    "Następnie wykonujemy analogiczną interpolację w pionie:\n",
    "\\begin{equation}\n",
    "f(ABCD) \\approx \\frac{j_2 - j}{j_2-j_1}f(AB) + \\frac{j - j_1}{j_2-j_1}f(CD)\n",
    "\\end{equation}\n",
    "\n",
    "Łącząc powyższe równania otrzymujemy:\n",
    "\\begin{equation}\n",
    "f(ABCD) \\approx \\frac{1}{(i_2 - i_1)(j_2-j_1)} ( f(A)(i_2-i)(j_2 - y) + f(B)(i-i_1)(j_2 - j) \\\\ + f(C)(i-i_1)(j-j_1) + f(D)(i_2-i)(j-j_1))\n",
    "\\end{equation}\n",
    "gdzie zapis $f(X)$ oznacza wartość piksela w punkcie $X$.\n",
    "\n",
    "Rozważania można uprościć przyjmując, że narożniki rozpatrywanego kwadratu mają następujące współrzędne: $A = (0,0)$, $B = (0,1)$, $ C= (1,1)$ oraz $D = (1,0)$.\n",
    "Wtedy powyższe równanie można zapisać:\n",
    "\\begin{equation}\n",
    "f(ABCD) \\approx f(A)(1-i)(1-j) + f(B)i(1-j) + f(C)ij + f(D)(1-i)j\n",
    "\\end{equation}\n",
    "\n",
    "lub macierzowo:\n",
    "\\begin{equation}\n",
    "f(ABCD) \\approx \\begin{bmatrix}1 - i & i \\end{bmatrix} \\begin{bmatrix} f(A) & f(D) \\\\\\\\ f(B) & f(C)  \\end{bmatrix}   \\begin{bmatrix} 1-j \\\\\\\\ j  \\end{bmatrix}\n",
    "\\end{equation}\n",
    "\n",
    "Uwaga.\n",
    "Nieco wbrew nazwie interpolacja dwuliniowa nie jest operacją liniową.\n",
    "W złożeniu dwóch operacji liniowych pojawia się człon $xy$.\n",
    "\n",
    "Warto dodać, że kolejny ``poziom wtajemniczenia'' to **interpolacja dwusześcienna** (ang. *bicubic interpolation*).\n",
    "Dana jest ona wzorem:\n",
    "\\begin{equation}\n",
    "I(i,j) = \\sum_{i=0}^{3} \\sum_{j=0}^{3} a_{ij} x^i y^j\n",
    "\\end{equation}\n",
    "Jej implementacja stanowi zadanie domowe do bieżącego ćwiczenia.\n",
    "\n",
    "Trzy powyżej przedstawione metody bynajmniej nie wyczerpują tematu.\n",
    "Wystarczy choćby otworzyć stronę [wiki o skalowaniu](https://en.wikipedia.org/wiki/Image_scaling), by zobaczyć, że metod jest dużo więcej.\n",
    "\n"
   ]
  },
  {
   "cell_type": "markdown",
   "metadata": {
    "pycharm": {
     "name": "#%% md\n"
    }
   },
   "source": [
    "Wykorzystując powyższe równania zaimplementuj interpolację dwuliniową:\n",
    "* dobrym punktem wyjścia będzie stworzona funkcja do interpolacji metodą najbliższego sąsiada,\n",
    "* początek powinien być identyczny,\n",
    "* różnice rozpoczynają się w momencie obliczenia współrzędnych nowego piksela,\n",
    "* jeśli chcemy zastosować opisane powyżej wzory (w wariancie uproszczonym), to musimy wyliczyć współrzędne punktów $A,B,C,D$,\n",
    "* w pierwszym kroku obliczamy współrzędne $A$ tj. $(0,0)$ - należy do tego wykorzystać funkcję *floor* (np. $i_1 = floor(i / h_{scale})$).\n",
    "  Proszę ten krok odnieść do przedstawionego rysunku poglądowego,\n",
    "* obliczenie współrzędnych $B,C,D$ jest już proste i sprowadza się do operacji `+1`,\n",
    "* potrzebujemy jeszcze część ułamkową współrzędnych punktu $ABCD$ tj. $(i,j)$ - od ilorazu $i/h_{scale}$ należy odjąć wartość $i_1$\n",
    "* wykorzystując wyznaczone współrzędne, należy pobrać wartości jasności w punktach $A,B,C,D$, tj. $f(A),f(B),f(C),f(D)$, podstawić do odpowiedniego równania i wykonać interpolację.\n",
    "\n",
    "  Uwagi:\n",
    "* Tworzenie macierzy *np.array*, mnożenie macierzy *np.dot*. Przy tworzeniu macierzy proszę zwrócić uwagę na niezbędne nawiasy kwadratowe.\n",
    "* Przy próbie uruchomienia kodu pewnie okaże się, że wystąpi przekroczenie zakresu - należy dodać stosowne zabezpiczenie.\n",
    "\n",
    "Proszę dla interpolacji dwuliniowej wykonać takie same eksperymenty, jak dla  najbliższego sąsiada.\n",
    "\n",
    "\n"
   ]
  },
  {
   "cell_type": "code",
   "execution_count": null,
   "metadata": {},
   "outputs": [],
   "source": [
    "def bilinear_interpolation(img,vertical_ratio,horizontal_ratio):\n",
    "    (X,Y) = img.shape\n",
    "#     print(X,Y)\n",
    "    height_img_resized = int(vertical_ratio*X)\n",
    "    width_img_resized = int(horizontal_ratio*Y)\n",
    "    \n",
    "    new_img = np.empty([height_img_resized, width_img_resized],dtype=np.uint8)\n",
    "\n",
    "    for idx_row_resized in range(height_img_resized):\n",
    "        for idx_col_resized in range(width_img_resized):\n",
    "\n",
    "            neighbor_height = (idx_row_resized/vertical_ratio)\n",
    "            neighbor_width = (idx_col_resized/horizontal_ratio)\n",
    "                        \n",
    "            y_top = int(neighbor_height)  \n",
    "            x_left = int(neighbor_width)\n",
    "            y_bottom = min(y_top+1, X-1)# nie wyjdzie poza zakres bo X-1\n",
    "            x_right = min(x_left+1, Y-1)# nie wyjdzie poza zakres bo Y-1\n",
    "                       \n",
    "            y_frac = neighbor_height - y_top\n",
    "            x_frac = neighbor_width - x_left\n",
    "                \n",
    "            intensity_top_left = img[y_top, x_left]\n",
    "            intensity_top_right = img[y_top, x_right]\n",
    "            intensity_bottom_left = img[y_bottom, x_left]\n",
    "            intensity_bottom_right = img[y_bottom, x_right]\n",
    "\n",
    "        \n",
    "            intensity_interpolated_top = intensity_top_left * (1-x_frac) + intensity_top_right * x_frac\n",
    "            intensity_interpolated_bottom = intensity_bottom_left * (1-x_frac)+ intensity_bottom_right * x_frac\n",
    "            intensity_interpolated = intensity_interpolated_top * (1-y_frac) + intensity_interpolated_bottom * y_frac\n",
    "            new_img[idx_row_resized, idx_col_resized] = intensity_interpolated\n",
    "                                                        \n",
    "    return new_img\n"
   ]
  },
  {
   "cell_type": "code",
   "execution_count": null,
   "metadata": {},
   "outputs": [],
   "source": [
    "plt.gray()\n",
    "plt.xticks([]), plt.yticks([])  \n",
    "plt.imshow(bilinear_interpolation(I,2.5,2.5))\n"
   ]
  },
  {
   "cell_type": "code",
   "execution_count": null,
   "metadata": {
    "scrolled": true
   },
   "outputs": [],
   "source": [
    "plt.xticks([]), plt.yticks([])  \n",
    "plt.imshow(bilinear_interpolation(I,1.5,1.5))    "
   ]
  },
  {
   "cell_type": "code",
   "execution_count": null,
   "metadata": {},
   "outputs": [],
   "source": [
    "plt.xticks([]), plt.yticks([])  \n",
    "plt.imshow(bilinear_interpolation(I,1.5,2.5))"
   ]
  },
  {
   "cell_type": "code",
   "execution_count": null,
   "metadata": {
    "scrolled": true
   },
   "outputs": [],
   "source": [
    "plt.xticks([]), plt.yticks([])  \n",
    "plt.imshow(bilinear_interpolation(I,0.5,0.5))"
   ]
  },
  {
   "cell_type": "code",
   "execution_count": null,
   "metadata": {
    "scrolled": false
   },
   "outputs": [],
   "source": [
    "plt.xticks([]), plt.yticks([])  \n",
    "plt.imshow(bilinear_interpolation(I2,1.5,1.5))"
   ]
  },
  {
   "cell_type": "code",
   "execution_count": null,
   "metadata": {},
   "outputs": [],
   "source": [
    "plt.xticks([]), plt.yticks([])  \n",
    "plt.imshow(bilinear_interpolation(I3,1.5,1.5))"
   ]
  },
  {
   "cell_type": "markdown",
   "metadata": {
    "pycharm": {
     "name": "#%% md\n"
    }
   },
   "source": [
    "## Intepolacja w OpenCV\n",
    "\n",
    "W OpenCV dostępna jest funkcja `resize`, która służy do zmiany rozmiaru obrazka.\n",
    "Składnia jest następująca `dst = cv2.resize(\tsrc, dsize[, dst[, fx[, fy[, interpolation]]]] )`, gdzie `det` to obraz wynikowy, `src` obraz źródłowy, `dsize` rozmiar docelowy (ew. można podać współczynniki skalowania dla poszczególnych osi: `fx,fy`), `interpolation` metoda interpolacji.\n",
    "Metod podstawowych dostępnych jest 5:\n",
    "- najbliższego sąsiada - ` cv2.INTER_NEAREST`,\n",
    "- dwuliniowa - ` cv2.INTER_LINEAR`,\n",
    "- dwukubiczna - ` cv2.INTER_CUBIC`,\n",
    "- *area* - ` cv2.INTER_AREA`,\n",
    "- *lanczos4* - ` cv2.INTER_LANCZOS4`.\n",
    "\n",
    "Przeprowadzimy następujący eksperyment: obraz (o większej niż dotąd rozdzielczości) przeskalujemy każdą z metod -- zwiększymy i zmniejszymy jego rozdzielczość. Dodamy też pomiar czasu realizacji obliczeń.\n",
    "\n",
    "Obraz: TODO\n",
    "\n",
    "\n",
    "Proszę stworzyć funkcję, która jako argumenty przyjmuje obraz oraz dwa współczynniki skalujące, a wewnątrz przeprowadzone zostaną interpolacje, pomiar czasu oraz wizualizacja (można wypisać czas w tytule rysunku).\n",
    "\n",
    "Pomiar czasu:\n",
    "```{python}\n",
    "from timeit import default_timer as timer\n",
    "start = timer()\n",
    "# ...\n",
    "end = timer()\n",
    "print(end - start)\n",
    "```\n",
    "\n",
    "Wykonaj eksperyment dla kilku różnych skal, przeanalizuj czasy obliczeń."
   ]
  },
  {
   "cell_type": "code",
   "execution_count": null,
   "metadata": {
    "jupyter": {
     "outputs_hidden": false
    },
    "pycharm": {
     "name": "#%%\n"
    }
   },
   "outputs": [],
   "source": [
    "from timeit import default_timer as timer\n",
    "\n",
    "\n",
    "def test_int(img, vertical_ratio,horizontal_ratio, interpolation_type):\n",
    "    start = timer()\n",
    "    \n",
    "    (X, Y)= img.shape\n",
    "    det = cv2.resize(img,(int(vertical_ratio*X), int(horizontal_ratio*Y)), interpolation_type)\n",
    "    det2 = cv2.resize(det,(int(X),int(Y)), interpolation_type)\n",
    "    \n",
    "    end = timer()\n",
    "    time = (end - start)\n",
    "    \n",
    "    print(\"Time:\")\n",
    "    print(time)\n",
    "    f, (ax1, ax2,ax3) = plt.subplots(1,3, figsize=(10,10)) \n",
    "    ax1.imshow(img)\n",
    "    ax2.imshow(det)\n",
    "    ax3.imshow(det2)\n",
    "    \n",
    "    pass"
   ]
  },
  {
   "cell_type": "code",
   "execution_count": null,
   "metadata": {},
   "outputs": [],
   "source": [
    "I = cv2.imread('lena.bmp')           \n",
    "I = cv2.cvtColor(I, cv2.COLOR_BGR2GRAY)\n",
    "plt.gray()\n",
    "test_int(I, 1.5, 1.5, cv2.INTER_NEAREST)\n"
   ]
  },
  {
   "cell_type": "code",
   "execution_count": null,
   "metadata": {
    "scrolled": true
   },
   "outputs": [],
   "source": [
    "test_int(I, 0.2, 0.2, cv2.INTER_LINEAR)"
   ]
  },
  {
   "cell_type": "code",
   "execution_count": null,
   "metadata": {},
   "outputs": [],
   "source": [
    "test_int(I, 0.4, 0.4, cv2.INTER_CUBIC)"
   ]
  },
  {
   "cell_type": "code",
   "execution_count": null,
   "metadata": {},
   "outputs": [],
   "source": [
    "test_int(I, 0.4, 0.4, cv2.INTER_AREA)"
   ]
  },
  {
   "cell_type": "code",
   "execution_count": null,
   "metadata": {},
   "outputs": [],
   "source": [
    "test_int(I, 0.4, 0.4, cv2.INTER_LANCZOS4)"
   ]
  },
  {
   "cell_type": "markdown",
   "metadata": {},
   "source": [
    "## Rozdzielczość (dpi)\n",
    "\n",
    "Omówioną wcześniej rozdzielczość przestrzenną (rozmiar) należy utożsamiać z rozmiarem macierzy w której zapisany jest obraz.\n",
    "W tym ujęciu rozmiar pojedynczego piksela nie ma specjalnego znaczenia.\n",
    "Problem pojawia się, kiedy obraz trzeba wyświetlić lub wydrukować.\n",
    "Wtedy pojedynczy piksel staje się ,,obiektem fizycznym'' i musi mieć swój rozmiar (wysokość/szerokość/powierzchnię).\n",
    "\n",
    "Parametr dpi (ang. *dots per inch*) określa liczbę kropek (pikseli), która mieści się na jednym calu (25,4 mm) długości/szerokości.\n",
    "Dopiero kombinacja rozmiaru i rozdzielczości określa nam rzeczywisty rozmiar obrazu jaki uzyskamy na wydruku.\n",
    "\n",
    "Dpi staje się istotne w przypadku drukowania, gdyż wyświetlanie na monitorze odbywa się zazwyczaj 1 piksel obrazka = 1 piksel na monitorze (w przypadku maksymalnej rozdzielczości wspieranej przez monitor), ew. następuje automatyczne skalowanie.\n",
    "\n",
    "Wpływ rozdzielczości można zademonstrować w następujący sposób:\n",
    "- wczytaj obraz *lena.bmp*.  Ma on rozmiar $512 \\times 512$.\n",
    "- wykorzystując funkcję `imresize` stwórz obrazy o rozmiarach $256 \\times 256$, $128 \\times 128$, $64 \\times 64$ - metoda interpolacji jest w tym wypadku mniej istotna.\n",
    "- wyświetl obrazy wymuszając zachowanie na ekranie wejściowej rozdzielczości $512 \\times 512$. W przypadku biblioteki *matplotlib* ta funkcjonalność jest domyślna.\n",
    "\n",
    "Proszę zaobserwować co dzieję się z obrazkiem."
   ]
  },
  {
   "cell_type": "code",
   "execution_count": null,
   "metadata": {
    "jupyter": {
     "outputs_hidden": false
    },
    "pycharm": {
     "name": "#%%\n"
    }
   },
   "outputs": [],
   "source": [
    "def resize_img_by_size(img, size_X, size_Y):\n",
    "    \n",
    "    dst = cv2.resize(img,(int(size_X),int(size_Y)))\n",
    "    \n",
    "    f, (ax1, ax2) = plt.subplots(1,2, figsize=(10,10))\n",
    "    ax1.imshow(img)\n",
    "    ax2.imshow(dst)\n",
    "    \n",
    "    pass\n"
   ]
  },
  {
   "cell_type": "code",
   "execution_count": null,
   "metadata": {},
   "outputs": [],
   "source": [
    "resize_img_by_size(I, 256, 256)\n"
   ]
  },
  {
   "cell_type": "code",
   "execution_count": null,
   "metadata": {},
   "outputs": [],
   "source": [
    "resize_img_by_size(I, 128, 128)\n"
   ]
  },
  {
   "cell_type": "code",
   "execution_count": null,
   "metadata": {},
   "outputs": [],
   "source": [
    "resize_img_by_size(I, 64, 64)"
   ]
  },
  {
   "cell_type": "markdown",
   "metadata": {},
   "source": [
    "## Liczba poziomów jasności\n",
    "\n",
    "Dla obrazów w skali szarości pojedynczy piksel zwykle zapisuje się na 8 bitach, co daje 256 rozróżnialnych poziomów szarości.\n",
    "Dla większości zastosowań wartość ta jest wystarczająca (choć są kamery o wyjścu 12 lub 16 bitów).\n",
    "Jednak oko ludzkie nie potrafi rozróżnić wszystkich 256 poziomów jasności (jest za mało czułe).\n",
    "Zazwyczaj człowiek rozróżnia 20-30 poziomów szarości (to ile i jakie dokładnie rozróżnia, zależy od konkretnego oświetlenia sceny i cech osobniczych).\n",
    "\n",
    "W poniższych krokach zademonstrujemy omówione zjawisko:\n",
    "- wczytaj (użyj) obrazu _lena_,\n",
    "- wykorzystując znaną funkcję `normalize` zmień liczbę poziomów szarości z 0-255 na:\n",
    "    * 0-31\n",
    "    * 0-15\n",
    "    * 0-7\n",
    "    * 0-3\n",
    "    * 0-1 (binaryzacja)\n",
    "- rezultaty wyświetl na wspólnym rysunku.\n",
    "\n",
    "Podpowiedzi:\n",
    "- trzeba przygotować tablice na obrazki np, `I_31 = np.zeros(I.shape,'uint8')`,\n",
    "- prawidłowe użycie funkcji normalize `cv2.normalize(I,I_31,0,31,cv2.NORM_MINMAX)`,\n",
    "- przykładowe wyświetlanie `axsHist[0,1].imshow(I, 'gray', vmin=0, vmax=31)`.\n",
    "\n",
    "Czy rezultaty eksperymentu pasują do teorii o rozpoznawaniu przez człowieka ograniczonego zakresu poziomów jasności?\n",
    "Wizualne porównanie których obrazów o tym świadczy ?"
   ]
  },
  {
   "cell_type": "code",
   "execution_count": null,
   "metadata": {
    "jupyter": {
     "outputs_hidden": false
    },
    "pycharm": {
     "name": "#%%\n"
    }
   },
   "outputs": [],
   "source": [
    "I = cv2.imread('lena.bmp')\n",
    "I = cv2.cvtColor(I, cv2.COLOR_BGR2GRAY)\n",
    "\n",
    "def brightness_levels(img, l, r):\n",
    "    \n",
    "    dst = np.zeros(img.shape,'uint8')\n",
    "    dst_normalized = cv2.normalize(img,dst,l,r,cv2.NORM_MINMAX)\n",
    "    \n",
    "    return dst_normalized"
   ]
  },
  {
   "cell_type": "code",
   "execution_count": null,
   "metadata": {},
   "outputs": [],
   "source": [
    "plt.xticks([]), plt.yticks([])  \n",
    "plt.imshow(brightness_levels(I,0,255),'gray', vmin=0, vmax=255)"
   ]
  },
  {
   "cell_type": "code",
   "execution_count": null,
   "metadata": {},
   "outputs": [],
   "source": [
    "plt.xticks([]), plt.yticks([])  \n",
    "plt.imshow(brightness_levels(I,0,31),'gray', vmin=0, vmax=31)"
   ]
  },
  {
   "cell_type": "code",
   "execution_count": null,
   "metadata": {},
   "outputs": [],
   "source": [
    "plt.xticks([]), plt.yticks([])  \n",
    "plt.imshow(brightness_levels(I,0,15),'gray', vmin=0, vmax=15)"
   ]
  },
  {
   "cell_type": "code",
   "execution_count": null,
   "metadata": {
    "scrolled": true
   },
   "outputs": [],
   "source": [
    "plt.xticks([]), plt.yticks([])  \n",
    "plt.imshow(brightness_levels(I,0,7),'gray', vmin=0, vmax=7)"
   ]
  },
  {
   "cell_type": "code",
   "execution_count": null,
   "metadata": {},
   "outputs": [],
   "source": [
    "plt.xticks([]), plt.yticks([])  \n",
    "plt.imshow(brightness_levels(I,0,3),'gray', vmin=0, vmax=3)"
   ]
  },
  {
   "cell_type": "code",
   "execution_count": null,
   "metadata": {},
   "outputs": [],
   "source": [
    "plt.xticks([]), plt.yticks([])  \n",
    "plt.imshow(brightness_levels(I,0,1),'gray', vmin=0, vmax=1)"
   ]
  },
  {
   "cell_type": "markdown",
   "metadata": {},
   "source": [
    "# Zadanie domowe -- interpolacja dwusześcienna\n",
    "\n",
    "Interpolacja dwusześcienna, to podobnie jak w przypadku interpolacji dwuliniowej, rozszerzenie idei interpolacji jednowymiarowej na dwuwymiarową siatkę.\n",
    "W trakcie jej obliczania wykorzystywane jest 16 pikseli z otoczenia (dla dwuliniowej 4).\n",
    "Skutkuje to zwykle lepszymi wynikami - obraz wyjściowy jest bardziej gładki i z mniejszą liczbą artefaktów.\n",
    "Ceną jest znaczny wzrost złożoności obliczeniowej (zostało to zaobserwowane podczas ćwiczenia).\n",
    "\n",
    "Interpolacja dana jest wzorem:\n",
    "\\begin{equation}\n",
    "I(i,j) = \\sum_{i=0}^{3} \\sum_{j=0}^{3} a_{ij} x^i y^j\n",
    "\\end{equation}\n",
    "\n",
    "Zadanie sprowadza się zatem do wyznaczenia 16 współczynników $a_{ij}$.\n",
    "W tym celu wykorzystuje się, oprócz wartość w~puntach $A$ (0,0), $B$ (1 0), $C$ (1,1), $D$ (0,1) (por. rysunek dotyczący interpolacji dwuliniowej), także pochodne cząstkowe $A_x$, $A_y$, $A_{xy}$.\n",
    "Pozwala to rozwiązać układ 16-tu równań.\n",
    "\n",
    "Jeśli zgrupujemy parametry $a_{ij}$:\n",
    "\\begin{equation}\n",
    "a = [ a_{00}~a_{10}~a_{20}~a_{30}~a_{01}~a_{11}~a_{21}~a_{31}~a_{02}~a_{12}~a_{22}~a_{32}~a_{03}~a_{13}~a_{23}~a_{33}]\n",
    "\\end{equation}\n",
    "\n",
    "i przyjmiemy:\n",
    "\\begin{equation}\n",
    "x = [A~B~D~C~A_x~B_x~D_x~C_x~A_y~B_y~D_y~C_y~A_{xy}~B_{xy}~D_{xy}~C_{xy}]^T\n",
    "\\end{equation}\n",
    "\n",
    "To zagadnienie można opisać w postaci równania liniowego:\n",
    "\\begin{equation}\n",
    "Aa = x\n",
    "\\end{equation}\n",
    "gdzie macierz $A^{-1}$ dana jest wzorem:\n",
    "\n",
    "\\begin{equation}\n",
    "A^{-1} =\n",
    "\\begin{bmatrix}\n",
    "1& 0& 0& 0& 0& 0& 0& 0& 0& 0& 0& 0& 0& 0& 0& 0 \\\\\n",
    "0&  0&  0&  0&  1&  0&  0&  0&  0&  0&  0&  0&  0&  0&  0&  0 \\\\\n",
    "-3&  3&  0&  0& -2& -1&  0&  0&  0&  0&  0&  0&  0&  0&  0&  0 \\\\\n",
    "2& -2&  0&  0&  1&  1&  0&  0&  0&  0&  0&  0&  0&  0&  0&  0 \\\\\n",
    "0&  0&  0&  0&  0&  0&  0&  0&  1&  0&  0&  0&  0&  0&  0&  0 \\\\\n",
    "0&  0&  0&  0&  0&  0&  0&  0&  0&  0&  0&  0&  1&  0&  0&  0 \\\\\n",
    "0&  0&  0&  0&  0&  0&  0&  0& -3&  3&  0&  0& -2& -1&  0&  0 \\\\\n",
    "0&  0&  0&  0&  0&  0&  0&  0&  2& -2&  0&  0&  1&  1&  0&  0 \\\\\n",
    "-3&  0&  3&  0&  0&  0&  0&  0& -2&  0& -1&  0&  0&  0&  0&  0 \\\\\n",
    "0&  0&  0&  0& -3&  0&  3&  0&  0&  0&  0&  0& -2&  0& -1&  0 \\\\\n",
    "9& -9& -9&  9&  6&  3& -6& -3&  6& -6&  3& -3&  4&  2&  2&  1 \\\\\n",
    "-6&  6&  6& -6& -3& -3&  3&  3& -4&  4& -2&  2& -2& -2& -1& -1 \\\\\n",
    "2&  0& -2&  0&  0&  0&  0&  0&  1&  0&  1&  0&  0&  0&  0&  0 \\\\\n",
    "0&  0&  0&  0&  2&  0& -2&  0&  0&  0&  0&  0&  1&  0&  1&  0 \\\\\n",
    "-6&  6&  6& -6& -4& -2&  4&  2& -3&  3& -3&  3& -2& -1& -2& -1 \\\\\n",
    "4& -4& -4&  4&  2&  2& -2& -2&  2& -2&  2& -2&  1&  1&  1&  1 \\\\\n",
    "\\end{bmatrix}\n",
    "\\end{equation}\n",
    "\n",
    "Potrzebne w rozważaniach pochodne cząstkowe obliczane są wg. następującego przybliżenia (przykład dla punktu A):\n",
    "\\begin{equation}\n",
    "A_x = \\frac{I(i+1,j) - I(i-1,j)}{2}\n",
    "\\end{equation}\n",
    "\\begin{equation}\n",
    "A_y = \\frac{I(i,j+1) - I(i,j-1)}{2}\n",
    "\\end{equation}\n",
    "\\begin{equation}\n",
    "A_xy = \\frac{I(i+1,j+1) - I(i-1,j) - I(i,j-1) + I(i,j)}{4}\n",
    "\\end{equation}\n",
    "\n",
    "## Zadanie\n",
    "\n",
    "Wykorzystując podane informacje zaimplementuj interpolację dwusześcienną.\n",
    "Uwagi:\n",
    "- macierz $A^{-1}$ dostępna jest w pliku *a_invert.py*\n",
    "- trzeba się zastanowić nad potencjalnym wykraczaniem poza zakres obrazka (jak zwykle).\n",
    "\n",
    "Ponadto dokonaj porównania liczby operacji arytmetycznych i~dostępów do pamięci koniecznych przy realizacji obu metod interpolacji: dwuliniowej i~dwusześciennej."
   ]
  },
  {
   "cell_type": "code",
   "execution_count": null,
   "metadata": {
    "jupyter": {
     "outputs_hidden": false
    },
    "pycharm": {
     "name": "#%%\n"
    }
   },
   "outputs": [],
   "source": [
    "#TODO Do samodzielnej implementacji\n"
   ]
  }
 ],
 "metadata": {
  "kernelspec": {
   "display_name": "Python 3",
   "language": "python",
   "name": "python3"
  },
  "language_info": {
   "codemirror_mode": {
    "name": "ipython",
    "version": 3
   },
   "file_extension": ".py",
   "mimetype": "text/x-python",
   "name": "python",
   "nbconvert_exporter": "python",
   "pygments_lexer": "ipython3",
   "version": "3.8.3"
  }
 },
 "nbformat": 4,
 "nbformat_minor": 4
}
