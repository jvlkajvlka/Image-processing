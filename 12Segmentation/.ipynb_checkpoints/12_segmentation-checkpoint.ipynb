{
 "cells": [
  {
   "cell_type": "markdown",
   "metadata": {
    "collapsed": true,
    "pycharm": {
     "name": "#%% md\n"
    }
   },
   "source": [
    "# Segmentacja obrazów\n",
    "\n",
    "## Cel ćwiczenia\n",
    "- zapoznanie z metodami segmentacji obrazów:\n",
    "    - segmentacją przez rozrost,\n",
    "    - segmentacją przez podział i scalanie.\n",
    "- zadanie domowe: segmentacja z wykorzystaniem wododziałów morfologicznych.\n",
    "\n",
    "## Wstęp\n",
    "\n",
    "W ramach dotychczas wykonanych ćwiczeń poznaliśmy segmentację z wykorzystaniem binaryzacji (progowania) - tj. na podstawie jasności (koloru) poszczególnych pikseli.\n",
    "Wykonaliśmy dwa warianty metody: globalny i lokalny oraz przetestowaliśmy różne podejścia do automatycznego wyznaczania progu bianryzacji (iteracyjne oraz Otsu).\n",
    "\n",
    "#Ponadto poznaliśmy możliwość segmentacji na podstawie krawędzi z wykorzystaniem transformaty Hough'a.\n",
    "\n",
    "W tym ćwiczeniu poznamy dwie inne metody podziału obrazu na fragmenty:\n",
    "-  segmentację przez rozrost obszaru (ang. *region growing*),\n",
    "- segmentację przez podział i scalanie (ang. *split and merge*)."
   ]
  },
  {
   "cell_type": "markdown",
   "metadata": {},
   "source": [
    "## Podstawy\n",
    "\n",
    "Niech $R$ oznacza obszar równy całemu analizowanemu obrazowi.\n",
    "Segmentację możemy uznać za proces podziału $R$ na $n$ podobszarów $R_1,R_2,...,R_n$ takich że:\n",
    "1. $\\cup_{i=1}^n R_i = R$\n",
    "- $R_i$ - składa się z połączonych ze sobą pikseli,\n",
    "- $R_i \\cap R_j = \\varnothing $ dla wszystkich $i$ i $j$,$ i \\neq j$,\n",
    "- $Q(R_i) = TRUE$ dla $i = 1,2,...n$\n",
    "- $ Q(R_i \\cup R_j) = FALSE$ dla każdych sąsiednich $R_i$ i $R_j$.\n",
    "\n",
    "gdzie: symbole $\\cup$ i $\\cap$ oznaczają odpowiednio sumę i iloczyn zbiorów, a $Q$ jest pewnym predykatem.\n",
    "\n",
    "Punkt *1* oznacza, że segmentacja musi być kompletna tj. każdy piksel powinien zostać przyporządkowany do jakiegoś zbioru.\n",
    "\n",
    "Punkt *2* oznacza, że piksele w ramach jednego podobszaru muszą być ze sobą połączone (na zasadzie sąsiedztwa 4 lub 8 punktowego).\n",
    "\n",
    "Punkt *3* oznacza, że dowolne różne podobszary muszą być rozłączne.\n",
    "\n",
    "Punkt *4* oznacza, że wszystkie piksele będące w ramach jednego podobszaru muszą spełniać pewną własność. Przykładowo może to być ten sam lub podobny odcień szarości.\n",
    "\n",
    "Punkt *5* oznacza, że dwa sąsiednie podobszary muszą być różne w sensie predykatu Q (inaczej powinny zostać uznane za ten sam podobszar)."
   ]
  },
  {
   "cell_type": "markdown",
   "metadata": {},
   "source": [
    "## Segmentacja przez rozrost obszaru\n",
    "\n",
    "Pomysł jest następujący.\n",
    "Wybieramy (jak ? - o tym później) piksele startowe (ang. *seed*) i od nich zaczynamy segmentację.\n",
    "Odbywa się ona na zasadzie sprawdzania czy sąsiednie piksele (sąsiedztwo 4 lub 8 punktowe) są podobne do centralnego pod względem jakieś cechy (predykatu $Q$).\n",
    "Jeśli tak to oznaczane są jako należące do tej samej klasy co piksel centralny.\n",
    "Ponadto stają się one kolejnymi punktami startowymi metody.\n",
    "Zatem procedura ma charakter rekurencyjny.\n",
    "\n",
    "Wybór punktów startowych może być podyktowany charakterem problemu (przykładowo wiemy gdzie na pewno zaczynają się obiekty).\n",
    "W ogólnym przypadku trzeba założyć, że pikselem startowym może być każdy piksel, co oczywiście wpływa na złożoność metody.\n",
    "\n",
    "Kolejnym problemem jest wybór kryterium stopu tj. kiedy nasza procedura rekurencyjna ma się zakończyć.\n",
    "Dla danego podobszaru będzie to moment, kiedy nie istnieją już piksele, które można do  niego dołączyć.\n",
    "\n",
    "Warto w tym miejscu zwrócić uwagę, że stosowanie ''sztywnego'' warunku - np. różnica jasności pomiędzy pikselem centralnym, a analizowanym jest mniejsza niż 5 - może często dać niepożądane wyniki, gdyż nie uwzględnia pewnych lokalnych właściwości.\n",
    "Przykładowo, może się okazać, że jeśli na obrazie występuje niewielki gradient to za należące do tego samego obszaru uznane zostaną piksele o zupełnie różnych jasnościach.\n",
    "Możliwa jest też sytuacja odwrotna.\n",
    "Duże zróżnicowanie wartości na obrazie spowoduje zbyt duże ''poszarpanie'' wykrytych obszarów.\n",
    "\n",
    "Jednym z możliwych rozwiązań jest uzależnienie kryterium podobieństwa (predykatu $Q$) od własności obrazu np. średniej jasności w obrębie danego obszaru.\n",
    "Można również dodać inne kryteria np. kształt podobszaru itp.\n",
    "\n",
    "Uwaga. Pojęcie segmentacja przez rozrost to pewna **koncepcja** podejścia do segmentacji, a nie konkretna metoda.\n",
    "Na etapie projektowania algorytmu należy skupić się na konstrukcji kryterium podobieństwa (tj. co i jak ma być ze sobą porównywane) oraz ewentualnym uzupełnianiu metody o dodatkowe kryteria.\n",
    "\n"
   ]
  },
  {
   "cell_type": "markdown",
   "metadata": {},
   "source": [
    "## Zadanie: zaprojektować system segmentacji wybranej struktury na obrazie MRI (np. stawu kolanowego).\n",
    "Punkt startowy wyznaczany będzie ''ręcznie'' (poprzez kliknięcie na obrazie).\n",
    "\n",
    "1. Wczytaj obraz *knee.png* (w skali szarości) - MRI stawu kolanowego. Wyświetl go. Załóżmy, że chcemy dokonać segmentacji górnej kości. Przyjęliśmy, że punkt startowy metody wyznaczany będzie w sposób ręczny. Do pobrania położenia kursora myszy na ekranie służy funkcja `plt.ginput`. Uwaga. Jeśli obrazki są ''osadzone'' w notatniku, funkcja nie działa - proszę zwrócić uwagę na kod `matplotlib.use('TkAgg')`, który powoduje, że obrazki wyświetlane są ''samodzielnie''.\n",
    "\n",
    "  Uwaga 1. Pobrane współrzędne należy zaokrąglić (*floor* lub *round*).\n",
    "\n",
    "  Uwaga 2. Dla potrzeb testów dobrze jest wpisać punkt startowy na ''sztywno''. Pozwoli to uniknąć dość irytującego klikania przy każdym uruchomieniu skryptu.\n",
    "\n",
    "\n",
    "2. Metodę zaimplementujemy z wykorzystaniem stosu.\n",
    "   Uwaga. Podany poniżej opis jest tylko jedną z możliwych realizacji (niekoniecznie najlepszą).\n",
    "   Na początek tworzymy dwie macierze o rozmiarach takich jak analizowany obraz.\n",
    "   W jednej będziemy zapisywać odwiedzone lokalizacje (`visited` - typ *boolean*), a w drugiej rezultaty segmentacji (`segmented`).\n",
    "   Obie macierze tworzymy wypełnione zerami (funkcja `np.zeros`).\n",
    "   Tworzymy też stos - w Python to po prostu ''pusta lista''.\n",
    "\n",
    "3. W pierwszym kroku metody na stos (`stack.append`) odkładamy współrzędne wybranego przez użytkowania piksela.\n",
    "   Oznaczamy go również jako odwiedzony (macierz *visited*) i zaliczony do obiektu (macierz *segmented*).\n",
    "\n",
    "4. Pozostałe działanie odbywać się będzie w pętli `while`, której warunkiem stopu jest obecność elementów na stosie (`len(stack)>0`).\n",
    " W iteracji należy pobrać współrzędne piksela ze stosu.\n",
    "  Następnie sprawdzamy, czy dla tego piksela można określić kontekst o rozmiarze $ 3 \\times 3$ tj. czy ma wszystkich sąsiadów.\n",
    "  Uwaga. Przyjmujemy tutaj uproszczenie - nie segmentujemy brzegu obrazka (ramki o szerokości 1 piksela).\n",
    "\n",
    "5. W kolejnym kroku rozpisujemy pętlę po otoczeniu $3 \\times 3$ (x2 `for`).\n",
    "   Wewnątrz obliczamy odległość pomiędzy pikselem centralnym, a każdym z kontekstu.\n",
    "   Przyjmijmy, że będzie to moduł z różnicy jasności.\n",
    "   Jeśli wartość modułu będzie mniejsza od zdefiniowanego progu (proszę przyjąć jako początkową wartość 4) oraz rozpatrywany piksel nie był wcześniej odwiedzany to oznaczamy go jako należący do obiektu oraz jego współrzędne ''odkładamy'' na stosie.\n",
    "   Uwaga. Pierwsza część warunku logicznego to nasz predykat Q.\n",
    "   Za piksele podobne uznajemy takie, których różnica w jasności jest mniejsza niż zadany próg.\n",
    "   Niezależnie od wyniku testu oznaczamy piksel jako odwiedzony (żeby wielokrotnie nie analizować tych samych lokalizacji).\n",
    "\n",
    "6. Poza pętlą `while` proszę wyświetlić rezultat segmentacji.\n",
    "   Czy wyniki są poprawne ?\n",
    "   Proszę poeksperymentować z wartością progu."
   ]
  },
  {
   "cell_type": "code",
   "execution_count": null,
   "metadata": {
    "pycharm": {
     "name": "#%%\n"
    },
    "scrolled": false
   },
   "outputs": [],
   "source": [
    "import os\n",
    "import cv2\n",
    "# import matplotlib\n",
    "# matplotlib.use('TkAgg')\n",
    "import matplotlib.pyplot as plt\n",
    "import numpy as np\n",
    "\n",
    "if not os.path.exists(\"knee.png\") :\n",
    "    !wget https://raw.githubusercontent.com/vision-agh/poc_sw/master/12_Segmentation/knee.png --no-check-certificate\n",
    "\n",
    "# cords = plt.ginput()\n",
    "# cords= np.floor(cords[0])\n",
    "# cords = cords.astype('int')\n",
    "        \n",
    "plt.gray()\n",
    "Img = cv2.imread('knee.png', cv2.IMREAD_GRAYSCALE)\n",
    "plt.imshow(Img)\n",
    "\n",
    "cords = [325,300]\n",
    "\n",
    "visited = np.zeros(Img.shape)\n",
    "segmented = np.zeros(Img.shape)\n",
    "\n",
    "stack = []\n",
    "stack.append(cords)\n",
    "\n",
    "visited[cords[0],cords[1]] = True\n",
    "segmented[cords[0],cords[1]] = True\n",
    "\n",
    "X,Y = Img.shape\n",
    "thres = 4.\n",
    "\n",
    "while len(stack)>0:\n",
    "    x,y = stack.pop()\n",
    "   \n",
    "    if( x >= 1 and x < (X-1) and y >= 1 and y < (X-1)):\n",
    "        env = Img[x-1:x+2, y-1:y+2] \n",
    "\n",
    "        for i in range(3):\n",
    "            for j in range(3):                \n",
    "                dif =  abs(env[1,1].astype('int') - env[i,j].astype('int'))\n",
    "\n",
    "                if (dif < thres and visited[(x + i - 1), (y + j -1)] == 0): \n",
    "                    stack.append([(x + i - 1), (y + j - 1)])\n",
    "                    segmented[(x + i - 1), (y + j -1)] = True\n",
    "                    \n",
    "                visited[(x + i - 1), (y + j -1)] = True\n",
    "                \n",
    "           \n",
    "plt.imshow(segmented)"
   ]
  },
  {
   "cell_type": "markdown",
   "metadata": {
    "pycharm": {
     "name": "#%% md\n"
    }
   },
   "source": [
    "1. Powyższy przykład ukazuje wspomniany wcześniej problem z ''globalnym'' podejściem do predykatu Q.\n",
    "  Jeśli próg będzie mały, to wyznaczymy jedynie niewielki fragment kości.\n",
    "  Natomiast zwiększenie progu skutkuje segmentacją nadmiarową.\n",
    "  Mówiąc kolokwialnie, na obrazie znajdzie się ''ścieżka'' po której możliwe jest przejście od obszaru jasnego do ciemnego nie ''łamiąc'' progu odległości pomiędzy sąsiednimi pikselami.\n",
    "\n",
    "2. Aby zaradzić powyższemu problemowi, można za kryterium podobieństwa przyjąć, nie różnicę jasności względem piksela centralnego, a od globalnie wyznaczonego i aktualizowanego progu.\n",
    "  W najprostszym przypadku może to być średnia jasność w wyznaczonym obszarze.\n",
    "  W celu implementacji mechanizmu wystarczy dodać dwie zmienne: średnią ($mV$) oraz licznik pikseli uznanych za należące do obiektu ($nS$).\n",
    "  Przy każdym zdjęciu ze stosu licznik jest zwiększany o 1.\n",
    "  Aktualizacja średniej następuje na podstawie równania:\n",
    "  \\begin{equation}\n",
    "  mV_{n} = \\frac{mV_{nS-1} (nS - 1) + I}{nS}\n",
    "  \\end{equation}\n",
    "  Następnie wystarczy tylko zmienić sposób obliczania odległości - zamienić piksel centralny na wartość średnią.\n",
    "  Proszę spróbować jak działa metodą z taką modyfikacją.\n",
    "  Proszę się liczyć z koniecznością zwiększenia progu (nawet dość znaczną).\n",
    "\n",
    "3. Poprawić działanie metody może również dodanie filtracji uśredniającej np. filtrem Gaussa.\n"
   ]
  },
  {
   "cell_type": "code",
   "execution_count": null,
   "metadata": {},
   "outputs": [],
   "source": [
    "import os\n",
    "import cv2\n",
    "# import matplotlib\n",
    "# matplotlib.use('TkAgg')\n",
    "import matplotlib.pyplot as plt\n",
    "import numpy as np\n",
    "\n",
    "if not os.path.exists(\"knee.png\") :\n",
    "    !wget https://raw.githubusercontent.com/vision-agh/poc_sw/master/12_Segmentation/knee.png --no-check-certificate\n",
    "\n",
    "\n",
    "# cords = plt.ginput()\n",
    "# cords= np.floor(cords[0])\n",
    "# cords = cords.astype('int')\n",
    "        \n",
    "plt.gray()\n",
    "Img = cv2.imread('knee.png', cv2.IMREAD_GRAYSCALE)\n",
    "plt.imshow(Img)\n",
    "\n",
    "cords = [325,300]\n",
    "\n",
    "visited = np.zeros(Img.shape)\n",
    "segmented = np.zeros(Img.shape)\n",
    "\n",
    "stack = []\n",
    "stack.append(cords)\n",
    "\n",
    "visited[cords[0],cords[1]] = True\n",
    "segmented[cords[0],cords[1]] = True\n",
    "\n",
    "X,Y = Img.shape\n",
    "thres = 30\n",
    "\n",
    "nS=0\n",
    "mV=0\n",
    "\n",
    "\n",
    "while len(stack)>0:\n",
    "    x,y = stack.pop()\n",
    "\n",
    "    nS = nS + 1\n",
    "    \n",
    "    mV = (mV *(nS -1) + Img[x,y])/nS\n",
    "   \n",
    "    if( x >= 1 and x < (X-1) and y >= 1 and y < (X-1)):\n",
    "        env = Img[x-1:x+2, y-1:y+2] \n",
    "\n",
    "        for i in range(3):\n",
    "            for j in range(3): \n",
    "                dif =  abs(mV - env[i, j].astype('int'))              \n",
    "\n",
    "                if (dif < thres and visited[(x + i - 1), (y + j -1)] == False): \n",
    "                    stack.append([(x + i - 1), (y + j - 1)])\n",
    "                    segmented[(x + i - 1), (y + j -1)] = True\n",
    "                    \n",
    "                visited[(x + i - 1), (y + j -1)] = True\n",
    "\n",
    "                     \n",
    "plt.imshow(segmented)"
   ]
  },
  {
   "cell_type": "markdown",
   "metadata": {
    "pycharm": {
     "name": "#%% md\n"
    }
   },
   "source": [
    "## Segmentacja przez podział i łączenie\n",
    "\n",
    "Omówioną procedurę segmentacji przez rozrost można określić jako podejście z dołu do góry, od szczegółu do ogółu (ang. *bottom-up*) - zaczynamy od pojedynczego piksela i dochodzimy do całego obrazu lub jego fragmentu.\n",
    "Segmentację można również zacząć od całego obrazka i dokonywać jego podziału na fragmenty, które ew. mogą zostać później połączone.\n",
    "Takie podejście można określić jako od góry do dołu, od ogółu do szczegółu (ang. *top-down*).\n",
    "\n",
    "Niech $R$ oznacza cały obraz, a $Q$ wybrany predykat.\n",
    "Sprawdzamy, czy zachodzi zależność $Q(R)= TRUE$.\n",
    "Zwykle tak nie jest, gdyż to oznaczałoby obecność na obrazie tylko jednego obszaru o ''spójnych'' właściwościach, czyli segmentacja w takim przypadku byłaby zbędna (w szczególności zachodziłoby to dla obrazu jednorodnego).\n",
    "Jeśli $Q(R) = FALSE$ dzielimy obszar $R$ na podobszary.\n",
    "Zwykle stosuje się tutaj podział na cztery jednakowe kwadratowe podobszary.\n",
    "Zilustrowano to na poniższym rysunku.\n",
    "\n",
    "![Przykład podziału obrazu na kwadratowe podobszary](https://raw.githubusercontent.com/vision-agh/poc_sw/master/12_Segmentation/image_split.png)\n",
    "\n",
    "Podział ten można również opisać w formie drzewa, gdzie każdy wierzchołek może mieć dokładnie 4 następniki.\n",
    "W takim ujęciu korzeń to cały obraz.\n",
    "Dla nowo powstałych podobszrów $R_1, R_2, R_3, R_4$ sprawdzany jest predykat $Q$.\n",
    "Jeśli nie jest on spełniony to następuje dalszy podział - w przykładzie na $R_{41}, R_{42}, R_{43}, R_{44}$.\n",
    "Procedurę kontynuujemy do momentu kiedy wszystkie podobszary będą spójne.\n",
    "Uwaga. Zwykle określa się minimalny rozmiar podobszaru (większy niż 1 piksel np. blok o rozmiarze $8 \\times8$).\n",
    "\n",
    "W wyniku powyższej procedury otrzymujemy podział obrazka, przy czym często się może zdarzyć, że leżące obok siebie podobszary będą spełniać predykat tj. $Q (R_i \\cup R_j) = TRUE$ dla sąsiadujących $R_i$ i $R_j$.\n",
    "Jest to sprzeczne z podpunktem *5* w warunkach segmentacji.\n",
    "Zjawisko to eliminowane jest w procedurze łączenia.\n",
    "Dla każdego z podobszarów sprawdza się jego sąsiadów i jeśli spełniony jest warunek $Q (R_i \\cup R_j) = TRUE$  to następuje ich połączenie.\n",
    "Procedura kontynuowana jest do momentu, kiedy niemożliwe jest dalsze łączenie.\n",
    "\n",
    "Dla metody możliwe są również uproszczenia.\n",
    "Przykładowo osłabia się warunek na łączenie z $Q (R_i \\cup R_j) = TRUE$ na $Q (R_i)= TRUE i Q(R_j) = TRUE$, czyli warunki muszą być spełnione dla każdego podobszaru osobno, ale już nie dla połączenia.\n",
    "\n",
    "\n",
    "Uwaga. Podobnie jak dla segmentacji przez rozrost, segmentacja przez podział i łączenie to też tylko pewna koncepcja (pewne ramy) algorytmu.\n",
    "Stworzenie konkretnego rozwiązania jest zadaniem dla osoby realizującej dany system wizyjny i wymaga analizy konkretnego problemu.\n",
    "\n",
    "Uwaga. Podany poniżej sposób implementacji nie jest ani jedynym z możliwych, ani optymalnym obliczeniowo.\n",
    "Ma on za zadanie tylko zilustrować koncepcję tej metody segmentacji.\n"
   ]
  },
  {
   "cell_type": "markdown",
   "metadata": {
    "pycharm": {
     "name": "#%% md\n"
    }
   },
   "source": [
    "## Realizacja ćwiczenia\n",
    "\n",
    "1. Wczytaj obraz *umbrella.png*.\n",
    "   Dokonaj konwersji z BGR do RGB.\n",
    "   Wyświetl go.\n",
    "   Załóżmy, że chcemy dokonać segmentacji poszczególnych fragmentów kolorowego parasola.\n",
    "   Nasz algorytm opierać się będzie na podejściu podziału i łączenia.\n",
    "   Jako kryterium podziału zastosujemy ''jednorodność'' danego obszaru, którą można opisać poprzez odchylenie standardowe.\n",
    "   Przy scalaniu będziemy brać pod uwagę średni ocień koloru tj. łączyć podobszary o zbliżonym odcieniu.\n",
    "\n",
    "2. W pierwszym etapie należy dokonać konwersji do przestrzeni barw HSV.\n",
    "   Następnie wybrać tylko składową H (tj. barwę).\n",
    "   Można ją kontrolnie wyświetlić.\n",
    "\n",
    "3. Procedurę podziału wygodnie jest zrealizować w formie rekurencji.\n",
    "   Utwórz funkcję np. `split`, która jako argumenty przyjmować będzie obraz oraz cztery współrzędne analizowanego podobszaru.\n",
    "   W pierwszym kroku należy wyciąć odpowiedni fragment oraz obliczyć dla niego średnią i odchylenie standardowe (`np.mean` oraz `np.std`).\n",
    "\n",
    "4. Następnie sprawdzamy czy odchylenie jest mniejsze niż zadany przez nas próg (np. 0.05) oraz czy nie osiągnęliśmy limitu podziału (np. bok kwadratu 8 pikseli).\n",
    "  Oba potrzebne progi możemy zrealizować za pomocą zmiennych globalnych dostępnych w Python (po prostu zadeklarowanych przed funkcją).\n",
    "  Potrzeby rozmiar kwadratu obliczamy na podstawie współrzędnych (przekazanych do funkcji jako argumenty)\n",
    "\n",
    "   Uwaga. Użycie zmiennych globalnych jest złą praktyką programistyczną i zachęcamy do ''opakowania'' obliczeń w klasę - nie jest to jednak obowiązkowe.\n",
    "\n",
    "5. Jeśli podobszar nie jest jednorodny (tj. duże odchylenie standardowe) i nie osiągnęliśmy minimalnego rozmiaru podobszaru to dokonujemy podziału na cztery części.\n",
    "      Wyznaczamy rozmiar aktualnego podobszaru (na podstawie jego współrzędnych).\n",
    "      Z ich wykorzystaniem otrzymujemy cztery identyczne podobszary ($I1,I2,I3,I4$).\n",
    "\n",
    "      Następnie dla każdego z nich wywołujemy funkcję `split` - rekurencja.\n",
    "      Najtrudniejsze jest odpowiednie podanie współrzędnych.\n",
    "      Mają to być **rzeczywiste** współrzędne podobszaru we współrzędnych globalnych (obrazu w pełnej rozdzielczości).\n",
    "      Podpowiedź. Trzeba ''odpowiednio'' wykorzystać współrzędne podobszaru przed podziałem (tj. argumenty funkcji) oraz rozmiar podobszaru.\n",
    "      Należy zwrócić uwagę na to, aby nie wystąpił błąd przesunięcia o 1 tj. współrzędna była większa/mniejsza o 1 od rzeczywistej.\n",
    "      W razie wątpliwości warto sobie te parametry wypisać na konsolę lub użyć debugera.\n",
    "\n",
    "6. Jeśli podobszar jest jednorodny lub nie możemy już dalej prowadzić podziału to:\n",
    "   - zapisujemy indeks danego podobszaru: ` seg_res[y1:y2, x1:x2] = index`, gdzie: `seg_res` to globalna macierz o rozmiarze takim jak obraz wejściowy (typ *int16*), `y1,y2,x1,x2` to współrzędne podobszaru. W macierzy `seg_res` zapisywane będą obszary jednorodne.\n",
    "  Zmienna `index` jest globalnym licznikiem podobszarów.\n",
    "  Powinna zostać zainicjowana wartością 1 przed pierwszym wywołaniem funkcji `split`.\n",
    "  Następnie, każdorazowo po przypisaniu należy ją inkrementować.\n",
    "  Uwaga. Aby możliwa była modyfikacja zmiennej globalnej, należy wewnątrz funkcji dodać np. linijkę: `global seg_res`\n",
    "\n",
    "  - zapisujemy średnią  podobszaru.\n",
    "    Wykorzystujemy macierz globalną `MRes` oraz kod podobny do opisanego powyżej.\n",
    "    Wartości te wykorzystamy przy etapie scalania.\n",
    "\n",
    "  Uwaga. Podany sposób zapisu wyników podziału jest dość nieefektywny.\n",
    "  Następuje powielenie tej samej informacji.\n",
    "  Lepszym pomysłem byłoby wykorzystanie podejścia opartego o grafy, jednak jest ono trudniejsze do ''szybkiej'' implementacji.\n",
    "\n",
    "7. Proszę wyświetlić macierze `seg_res` in `m_res`. Pierwsza powinna pokazywać podział na obszary - mniejsze lub większe kwadraty. Druga zasadniczo powinna wyglądać podobnie jak składowa H, tylko bardziej ''rozmazany''."
   ]
  },
  {
   "cell_type": "code",
   "execution_count": 1,
   "metadata": {
    "pycharm": {
     "name": "#%%\n"
    }
   },
   "outputs": [
    {
     "data": {
      "text/plain": [
       "<matplotlib.image.AxesImage at 0x1c8db739820>"
      ]
     },
     "execution_count": 1,
     "metadata": {},
     "output_type": "execute_result"
    },
    {
     "data": {
      "image/png": "[encoded data removed]",
      "text/plain": [
       "<Figure size 1080x1080 with 2 Axes>"
      ]
     },
     "metadata": {
      "needs_background": "light"
     },
     "output_type": "display_data"
    }
   ],
   "source": [
    "import os\n",
    "import cv2\n",
    "import matplotlib.pyplot as plt\n",
    "import numpy as np\n",
    "\n",
    "if not os.path.exists(\"umbrella.png\") :\n",
    "    !wget https://raw.githubusercontent.com/vision-agh/poc_sw/master/12_Segmentation/umbrella.png --no-check-certificate\n",
    "\n",
    "Image = cv2.imread('umbrella.png')\n",
    "Image = cv2.cvtColor(Image, cv2.COLOR_BGR2RGB)\n",
    "ImageHsv = cv2.cvtColor(Image, cv2.COLOR_RGB2HSV)\n",
    "ImagePartH = ImageHsv[:,:, 0]\n",
    "shape = ImagePartH.shape\n",
    "\n",
    "thres = 0.05\n",
    "limit = 8\n",
    "index = 1\n",
    "\n",
    "\n",
    "seg_res = np.zeros(ImagePartH.shape, dtype=np.int16)\n",
    "m_res = np.zeros(ImagePartH.shape, dtype=np.int16)   \n",
    "    \n",
    "def split(img, y1, y2, x1, x2, thres, limit):\n",
    "    env = img[y1:y2, x1:x2]\n",
    "    X, Y = env.shape \n",
    "\n",
    "    mean = np.mean(env)\n",
    "    std = np.std(env)   \n",
    "    global index\n",
    "           \n",
    "    if std > thres and  X > limit and Y > limit:\n",
    "                    \n",
    "        env1 =np.array([y1, np.floor((y1 + y2)/2), x1, np.floor((x1+x2)/2)]).astype('int')\n",
    "        env2 =np.array([y1, np.floor((y1 + y2)/2), np.floor((x1+x2)/2),   x2]).astype('int')\n",
    "        env3 =np.array([np.floor((y1 + y2)/2), y2, x1, np.floor((x1+x2)/2)]).astype('int')\n",
    "        env4 =np.array([np.floor((y1 + y2)/2), y2, np.floor((x1+x2)/2), x2]).astype('int')\n",
    "        \n",
    "        split(img, env1[0], env1[1], env1[2], env1[3],thres,limit)\n",
    "        split(img, env2[0], env2[1], env2[2], env2[3],thres,limit)\n",
    "        split(img, env3[0], env3[1], env3[2], env3[3],thres,limit)\n",
    "        split(img, env4[0], env4[1], env4[2], env4[3],thres,limit)\n",
    "        \n",
    "        \n",
    "    else:\n",
    "        seg_res[y1:y2, x1:x2] = index\n",
    "        m_res[y1:y2, x1:x2] = mean\n",
    "        index = index + 1\n",
    "        \n",
    "    return seg_res,m_res\n",
    " \n",
    "\n",
    "\n",
    "\n",
    "i1,i2 =split(ImagePartH,0,shape[0],0,shape[1],thres,limit)    \n",
    "f, (x1,x2) = plt.subplots(1,2,figsize=(15,15))\n",
    "x1.imshow(i1)\n",
    "x2.imshow(i2)\n",
    "\n",
    "\n",
    "\n",
    "\n"
   ]
  },
  {
   "cell_type": "markdown",
   "metadata": {},
   "source": [
    "1. Drugi etap to łączenie.\n",
    "   Idea jest nieco zbliżona do segmentacji przez rozrost.\n",
    "   Wybieramy dany podobszar i analizujemy sąsiednie podobszary\n",
    "   Jeśli są one podobne to dołączamy je do aktualnie rozpatrywanego.\n",
    "   Za kryterium podobieństwa przyjmujemy niewielką różnicę w uśrednionym odcieniu barwy (składowa H).\n",
    "\n",
    "2. Procedurę realizujemy wewnątrz pętli `while`.\n",
    "   Warunkiem jej stopu jest przekroczenie przez licznik (np. `i`) wartości `index`, co oznacza, że przeanalizowane zostały wszystkie znalezione w pierwszym etapie podobszary.\n",
    "\n",
    "3. W pierwszym kroku ''wycinamy'' maskę pikseli o rozpatrywanym indeksie tj. `ib = seg_res == i`.\n",
    "   Dokonujemy też konwersji na typ *uint8*.\n",
    "   Następnie sprawdzamy, czy maska zawiera elementy niezerowe tj. czy nie jest ''pusta'' - `np.any`.\n",
    "   Taki przypadek może zajść jeśli pewien podobszar został dołączony do innego i zmienione zostały jego indeksy.\n",
    "   Dla ''pustej'' maski inkrementujemy licznik `i` i przechodzimy do następnej iteracji - `continue`.\n",
    "\n",
    "4. Dla rozpatrywanego podobszaru znajdujemy współrzędną lewego górnego rogu.\n",
    "   Można to zrobić z wykorzystaniem składni: `(y, x) = np.nonzero(ib)` oraz  `first = (y[0], x[0])` - znajdywanie współrzędnych pierwszego niezerowego elementu.\n",
    "\n",
    "5. Następnie należy znaleźć sąsiadów rozpatrywanego obszaru.\n",
    "   Można wykorzystać dylatację maski ``ib`` z elementem strukturalnym w postaci kwadratu o rozmiarze $3 \\times 3$ - `dil = cv2.dilate(ib, cv2.getStructuringElement(cv2.MORPH_RECT,(3,3)))`\n",
    "      Następnie od maski po dylatacji odejmujemy maskę oryginalną.\n",
    "      Otrzymujemy ''ramkę'', którą wykorzystujemy do ''wycięcia'' (mnożenie punktowe) fragmentu z macierzy `seg_res`.\n",
    "      Z tego fragmentu wybieramy elementy niezerowe (np. w ten sposób `mult_nz = mult[np.nonzero(mult)]`) i unikalne (tj. eliminacja duplikatów) - `mult_uniq = np.unique(mult_nz)`.\n",
    "\n",
    "6. Mając wektor z indeksami sąsiadów realizujemy pętlę w której dla każdego sąsiada:\n",
    "    - wycinamy opowiadającą mu maską i znajdujemy jej lewy górny róg - w sposób analogiczny do opisanego powyżej,\n",
    "\t- sprawdzamy, czy moduł z różnicy pomiędzy średnimi odcieniami barwy w dwóch analizowanych podobszarach jest mniejszy od progu (np. $5/255$). Jeśli tak to łączymy obszary tj. sąsiadowi przypisujemy indeks rozpatrywanego  `seg_res[ibs] = i`, gdzie `ibs` - maska podobszaru sąsiedniego.\n",
    "\tDo poprawnego działania konieczna jest jeszcze flaga informująca czy nastąpiło połączenie.\n",
    "\tJej wartość ustawiamy na 0 przed pętlą po sąsiednich podobszarach.\n",
    "\tJeśli wystąpiło połączenie to wartość ustawiamy na jeden.\n",
    "\n",
    "\tPo pętli po sąsiadach sprawdzamy flagę.\n",
    "\tJeśli ma ona wartość 0 tj. nie nastąpiło połączenie obszarów to licznik\t`i` jest inkrementowany.\n",
    "\n",
    "7. Uwaga. Obliczenia mogą chwilę trwać.\n",
    "   Proszę wyświetlić macierz `seg_res`.\n",
    "   Jeśli implementacja jest poprawna, to wynik segmentacji powinien być względnie dobry - wszystkie elementy parasolki wyodrębnione.\n"
   ]
  },
  {
   "cell_type": "code",
   "execution_count": 2,
   "metadata": {
    "pycharm": {
     "name": "#%%\n"
    }
   },
   "outputs": [
    {
     "data": {
      "text/plain": [
       "<matplotlib.image.AxesImage at 0x1c8dbe36220>"
      ]
     },
     "execution_count": 2,
     "metadata": {},
     "output_type": "execute_result"
    },
    {
     "data": {
      "image/png": "[encoded data removed]",
      "text/plain": [
       "<Figure size 432x288 with 1 Axes>"
      ]
     },
     "metadata": {
      "needs_background": "light"
     },
     "output_type": "display_data"
    }
   ],
   "source": [
    "i = 1\n",
    "thres2 = 15\n",
    "X, Y = seg_res.shape\n",
    "\n",
    "\n",
    "\n",
    "while i <= index:\n",
    "    ib = seg_res == i\n",
    "    ib = ib.astype('uint8')\n",
    "    \n",
    "    if np.any(ib):\n",
    "        (y, x) = np.nonzero(ib)\n",
    "        first = (y[0], x[0])\n",
    "        dil = cv2.dilate(ib, cv2.getStructuringElement(cv2.MORPH_RECT,(3,3)))\n",
    "        frame = dil - ib\n",
    "        \n",
    "        mult = seg_res * frame\n",
    "        mult_nz = mult[np.nonzero(mult)]\n",
    "        mult_uniq = np.unique(mult_nz)\n",
    "        \n",
    "        flag = 0\n",
    "        for element in mult_uniq:\n",
    "            ib2 = seg_res == element\n",
    "            ib2 = ib2.astype('uint8')\n",
    "\n",
    "            if np.any(ib2):\n",
    "                (y2, x2) = np.nonzero(ib2)\n",
    "                first2 = (y2[0], x2[0])\n",
    "                dif = abs(m_res[first] - m_res[first2]) \n",
    "\n",
    "                if dif < thres2:\n",
    "                    for xs in range(y2[0], X):\n",
    "                        for ys in range(x2[0], Y):\n",
    "                            if ib2[xs,ys] == 1:\n",
    "                                seg_res[xs,ys]=i\n",
    "                            else:\n",
    "                                break\n",
    "\n",
    "                    flag = 1\n",
    "                \n",
    "        if flag == 0:\n",
    "            i = i + 1\n",
    "    else:\n",
    "        i+=1\n",
    "        continue\n",
    "        \n",
    "        \n",
    "        \n",
    "plt.imshow(seg_res)\n"
   ]
  },
  {
   "cell_type": "markdown",
   "metadata": {
    "pycharm": {
     "name": "#%% md\n"
    }
   },
   "source": [
    "8. Na koniec zastosujemy jeszcze dwie proste metody filtracji wyników.\n",
    "   Po pierwsze wyeliminujemy obszary o rozmiarze mniejszym niż zadany (np. 100 pikseli).\n",
    "   W tym celu wyznaczamy wektor unikalnych indeksów: `unique = np.unique(seg_res)`.\n",
    "   Następnie implementujemy pętlę `for` po tych indeksach.\n",
    "   Wewnątrz wycinamy maskę dla rozpatrywanego indeksu i obliczamy jej pole (`sum`).\n",
    "   Jeśli jest ono mniejsze niż próg to cały podobszar ''zerujemy'' - `seg_res[mask] = 0`, gdzie `mask` - maska podobszaru.\n",
    "\n",
    "9. W drugim kroku przeprowadzamy przeindeksowanie indeksów na pierwsze N liczb całkowitych.\n",
    "   Ponownie wyznaczamy unikalne indeksy.\n",
    "   Następnie w pętli `for` wycinamy maskę o indeksie `U(ii)`, a do wyniku przypisujemy iterator pętli `seg_res[mask] = ii`.\n",
    "\n",
    "10. Proszę poeksperymentować z różnymi parametrami.\n",
    "    Wyniki proszę zaprezentować prowadzącemu."
   ]
  },
  {
   "cell_type": "code",
   "execution_count": 3,
   "metadata": {
    "pycharm": {
     "name": "#%%\n"
    }
   },
   "outputs": [
    {
     "data": {
      "text/plain": [
       "<matplotlib.image.AxesImage at 0x1c8dbe858e0>"
      ]
     },
     "execution_count": 3,
     "metadata": {},
     "output_type": "execute_result"
    },
    {
     "data": {
      "image/png": "[encoded data removed]",
      "text/plain": [
       "<Figure size 432x288 with 1 Axes>"
      ]
     },
     "metadata": {
      "needs_background": "light"
     },
     "output_type": "display_data"
    }
   ],
   "source": [
    "thres3 = 100\n",
    "unique = np.unique(seg_res)\n",
    "\n",
    "for i in unique:\n",
    "    mask = seg_res == i\n",
    "    mask = mask.astype('uint8')\n",
    "    (y3, x3) = np.nonzero(mask)\n",
    "    sumMask = np.sum(mask)\n",
    "    \n",
    "    \n",
    "    if(sumMask < thres3):\n",
    "        for m in range(y3[0], X):\n",
    "            for n in range(y3[0], Y):\n",
    "                if mask[m,n] == 1:\n",
    "                    seg_res[m,n]=0\n",
    "                else:\n",
    "                    break  \n",
    "                    \n",
    "                    \n",
    "plt.imshow(seg_res)"
   ]
  },
  {
   "cell_type": "code",
   "execution_count": 4,
   "metadata": {},
   "outputs": [
    {
     "data": {
      "text/plain": [
       "<matplotlib.image.AxesImage at 0x1c8dbed2b20>"
      ]
     },
     "execution_count": 4,
     "metadata": {},
     "output_type": "execute_result"
    },
    {
     "data": {
      "image/png": "[encoded data removed]",
      "text/plain": [
       "<Figure size 432x288 with 1 Axes>"
      ]
     },
     "metadata": {
      "needs_background": "light"
     },
     "output_type": "display_data"
    }
   ],
   "source": [
    "unique2 = np.unique(seg_res)\n",
    "seg_res2 = np.copy(seg_res)\n",
    "\n",
    "for i2 in range (len(unique2)):  \n",
    "    mask2 = seg_res == unique2[i2]\n",
    "    \n",
    "    for a in range(0, X):\n",
    "        for b in range(0, Y):\n",
    "            if mask2[a, b] == 1:\n",
    "                seg_res2[a, b]= i2\n",
    "                \n",
    "\n",
    "plt.imshow(seg_res2)"
   ]
  },
  {
   "cell_type": "code",
   "execution_count": null,
   "metadata": {},
   "outputs": [],
   "source": []
  }
 ],
 "metadata": {
  "kernelspec": {
   "display_name": "Python 3",
   "language": "python",
   "name": "python3"
  },
  "language_info": {
   "codemirror_mode": {
    "name": "ipython",
    "version": 3
   },
   "file_extension": ".py",
   "mimetype": "text/x-python",
   "name": "python",
   "nbconvert_exporter": "python",
   "pygments_lexer": "ipython3",
   "version": "3.8.3"
  }
 },
 "nbformat": 4,
 "nbformat_minor": 1
}
