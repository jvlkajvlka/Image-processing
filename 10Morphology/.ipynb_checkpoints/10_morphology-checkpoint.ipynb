{
 "cells": [
  {
   "cell_type": "markdown",
   "metadata": {},
   "source": [
    "# Przekształcenia morfologiczne\n",
    "\n",
    "## Cel:\n",
    "- zapoznanie z podstawowymi przekształceniami morfologicznymi – erozją, dylatacją, otwarciem, zamknieciem, transformacją trafi, nie trafi,\n",
    "- zapoznanie ze złożonymi operacjami morfologicznymi wykorzystującymi rekonstrukcję morfologiczną,\n",
    "- zapoznanie z operacjami morfologicznym dla obrazów w odcieniach szarości – erozją, dylatacją, otwarciem, zamknieciem, filtrami top-hat i bottom-hat,\n",
    "- zapoznanie z wykorzystaniem złożonych operacji morfologicznych przy rozwiązywaniu konkretnego problemu,\n",
    "- zadanie domowe: wykorzystanie morfologii do implementacji ,,gry w życie''."
   ]
  },
  {
   "cell_type": "markdown",
   "metadata": {},
   "source": [
    "## Przypomnienie teorii\n",
    "\n",
    "### Element strukturalny\n",
    "\n",
    "Element strukturalny obrazu jest to pewien wycinek obrazu (przy dyskretnej reprezentacji obrazu – pewien podzbiór jego elementów). Najcześciej stosowanym elementem strukturalnym jest kwadratowa maska o rozmiarze 3×3 lub 5×5. Niekiedy pożądane są maski o innym kształcie, np. zbliżonym do elipsy.\n",
    "\n",
    "### Erozja\n",
    "\n",
    "Erozja (ang. _erosion_) jest podstawowym przekształceniem morfologicznym. Zakładamy, że obraz wyjściowy zawiera pewien obszar (figurę) X, wyróżniający się pewną charakterystyczną cechą (np. odróżniającą się od tła jasnością). Figura X po wykonaniu operacji erozji to zbiór punktów centralnych wszystkich elementów strukturalnych, które w całości mieszczą się we wnetrzu obszaru X. Miarą stopnia erozji jest wielkość elementu strukturalnego.\n",
    "\n",
    "Erozje można traktować jako filtr minimalny, tj. z danego otoczenia piksela (określanego przez maskę) do obrazu wynikowego wybierana jest wartość minimalna.\n",
    "\n",
    "### Dylatacja\n",
    "\n",
    "Dylatacja (ang. _dilation_): Zakładamy, że obraz wejściowy zawiera obszar X wyróżniający się pewną charakterystyczną cechą (np. jasnością). Figura przekształcona przez dylatacje to zbiór punktów centralnych wszystkich elementów strukturalnych, których którykolwiek punkt mieści sie we wnetrzu obszaru X. Miarą  dylatacji jest wielkość elementu strukturalnego.\n",
    "\n",
    "Dylatacje można traktować jako filtr maksymalny, tj. z danego otoczenia piksela (określanego\n",
    "przez maske) do obrazu wynikowego wybierana jest wartość maksymalna.\n",
    "\n",
    "### Otwarcie i zamknięcie\n",
    "\n",
    "Otwarcie (ang. _opening_) polega na wykonaniu najpierw operacji erozji, a nastepnie dylatacji.\n",
    "\n",
    "> Otwarcie = erozja + dylatacja\n",
    "\n",
    "Zamkniecie (ang. _closing_) polega na wykonaniu najpierw operacji dylatacji, a nastepnie erozji.\n",
    "\n",
    "> Zamkniecie = dylatacja + erozja\n",
    "\n",
    "### Obrazy w odcieniu szarości\n",
    "\n",
    "Obrazy w odcieniu szarości – detekcja dolin i szczytów (top-hat, bottom-hat):\n",
    "\n",
    "Aby wyodrebnić z obrazu lokalne ekstrema można wykorzystać zdefiniowane wcześniej przekształcenia: otwarcie i zamkniecie. W celu wyszukania lokalnych maksimów (szczytów) należy od wyniku otwarcia danego obrazu odjąć obraz wyjściowy. Analogicznie, aby wyodrebnić lokalne minima obrazu, należy dokonać podobnej operacji, z tym że pierwszą operacją bedzie zamkniecie. Uwaga! Należy zwrócić uwagę, że poniższe metody służą do detekcji (pokreślenia) tylko lokalnych ekstremów!"
   ]
  },
  {
   "cell_type": "markdown",
   "metadata": {},
   "source": [
    "## Podstawowe operacje morfologiczne: erozja, dylatacja, otwarcie, zamknięcie, trafi nie trafi\n",
    "\n",
    "1. Wczytaj obraz ertka.bmp\n",
    "2. Wykonaj operację erozji `cv2.erode`. Parametrami funkcji są obraz oraz element strukturalny. Element można stworzyć samodzielnie jako tablicę składającą się z 0 i 1 `np.ones((3,3))` lub posłużyć się funkcją `cv2.getStructuringElement`, do której należy podać kształt `cv2.MORPH_RECT` oraz wielkość elementu `(3,3)`. Na początku użyj kwadratu o rozmiarze 3 pikseli.\n",
    "3. Wyświetl obraz oryginalny oraz po wykonaniu erozji – najlepiej na wspólnym wykresie. Upewnij się, że rozumiesz, jak działa erozja.\n",
    "4. Zmień element strukturalny (inny kształt – koło, diament lub inny rozmiar). Ponownie wykonaj erozję, sprawdź rezultat działania operacji.\n",
    "5. Oprócz zmiany elementu strukturalnego na rezultat erozji można wpłynąć zwiększając liczbę iteracji (np. wykonać erozję trzykrotnie). Ustal element strukturalny na kwadrat o boku 3 piksele. Wykonaj erozję obrazu _ertka_ dwukrotnie, a następnie trzykrotnie. Zaobserwuj rezultaty. Wskazówka: warto zajrzeć do dokumentacji funkcji `erode`.\n",
    "6. Wczytaj obraz buzka.bmp. Dobierz element strukturalny (zdefiniuj go ręcznie jako macierz 0 i 1) w taki sposób, aby usunąć włosy o określonej orientacji (ukośnie lewo lub prawo).\n",
    "7. Uwaga: pokazane metody wpływania na rezultaty erozji wykorzystuje się identycznie dla pozostałych operacji morfologicznych – dylatacji, otwarcia i zamknięcia.\n",
    "8. Operacją odwrotną do erozji jest dylatacja `cv2.dilate`. Ustal element strukturalny na kwadrat o boku 3 piksele. Wykonaj dylatację obrazu _ertka_. Zapoznaj się z rezultatem działania.\n",
    "9. Na wspólnym wykresie wyświetl obraz oryginalny oraz obrazy po operacjach morfologicznych: erozja, dylatacja, otwarcie i zamkniecie. Otwarcie i zamknięcie można uzyskać za pomocą `cv2.morphologyEx(img, operacja, element_strukturalny)`, gdzie typem operacji jest `cv2.MORPH_OPEN` lub `cv2.MORPH_CLOSE`.\n",
    "10. Zmień obraz _ertka_ na _wyspa_, a następnie na _kolka_. Wykonaj na każdym cztery przedstawione operacje morfologiczne. Zaobserwuj rezultaty.\n",
    "11. Minizadanko: wykorzystując poznane operacje morfologiczne spowoduj, że na obrazie _ertka_ pozostanie tylko napis RT (bez wypustek i dziur).\n",
    "12. Niekiedy potrzebne jest wykrycie konkretnych konfiguracji pikseli na obrazie – przydaje się do tego transformacja trafi, nie trafi (ang. _hit-or-miss_). Pozwala ona wykryć na obrazie obecność elementów, które dokładnie odpowiadają masce.\n",
    "13. Wczytaj obraz hom.bmp. Wyświetl go. Załóżmy, że chcemy wykryć na obrazie krzyżyki 3x3. Zdefiniuj następujący element strukturalny:\n",
    "```\n",
    "[0,1,0]\n",
    "[1,1,1]\n",
    "[0,1,0]\n",
    "```\n",
    "Wykonaj transformację trafi, nie trafi – `cv2.morphologyEx(hom, cv2.MORPH_HITMISS, se1)`. Rezultat operacji wyświetl. Czy udało się zrealizować zadanie? Jeżeli pojawiają się u Państwa błędy związane z typem danych, należy obraz wejściowy przekonwertować na skalę szarości: `cv2.cvtColor(hom, cv2.COLOR_BGR2GRAY)`.\n"
   ]
  },
  {
   "cell_type": "code",
   "execution_count": null,
   "metadata": {},
   "outputs": [],
   "source": [
    "import matplotlib.pyplot as plt\n",
    "import cv2\n",
    "import numpy as np\n",
    "\n",
    "Img = cv2.imread('ertka.bmp', cv2.IMREAD_GRAYSCALE)\n",
    "plt.gray()\n",
    "\n",
    "\n",
    "sElement = np.ones((3,3))\n",
    "sElement2 = np.ones((5,5))\n",
    "\n",
    "def erosion(image, element):\n",
    "    I=cv2.erode(image,element)\n",
    "    return I\n",
    "\n",
    "f, (ax1,ax2,ax3) = plt.subplots(1,3,figsize=(25,25))\n",
    "ax1.imshow(Img)\n",
    "ax2.imshow(erosion(Img,sElement))\n",
    "ax3.imshow(erosion(Img,sElement2))\n",
    "\n",
    "f, (ax1,ax2) = plt.subplots(1,2,figsize=(25,25))\n",
    "ax1.imshow(erosion(erosion(Img,sElement),sElement))\n",
    "ax2.imshow(erosion(erosion(erosion(Img,sElement),sElement),sElement))\n"
   ]
  },
  {
   "cell_type": "code",
   "execution_count": null,
   "metadata": {},
   "outputs": [],
   "source": [
    "Img2 = cv2.imread('buzka.bmp', cv2.IMREAD_GRAYSCALE)\n",
    "plt.gray()\n",
    "\n",
    "matrix = [[1, 0, 0],\n",
    "          [0, 1, 0],\n",
    "          [0, 0, 0]]\n",
    "\n",
    "f, (ax1,ax2) = plt.subplots(1,2,figsize=(25,25))\n",
    "ax1.imshow(Img2)\n",
    "ax2.imshow(erosion(Img2,np.uint8(matrix)))\n",
    "\n",
    "\n",
    "def dilation(image,element):\n",
    "    I = cv2.dilate(image,element)\n",
    "    return I\n",
    "\n",
    "f, (ax1,ax2) = plt.subplots(1,2,figsize=(25,25))\n",
    "ax1.imshow(Img2)\n",
    "ax2.imshow(dilation(Img2,sElement))\n"
   ]
  },
  {
   "cell_type": "code",
   "execution_count": null,
   "metadata": {},
   "outputs": [],
   "source": [
    "f, (ax1,ax2,ax3,ax4,ax5) = plt.subplots(1,5,figsize=(25,25))\n",
    "ax1.imshow(Img2)\n",
    "ax2.imshow(dilation(Img2,sElement))\n",
    "ax3.imshow(erosion(Img2,sElement))\n",
    "ax4.imshow(cv2.morphologyEx(Img2,cv2.MORPH_OPEN,sElement))\n",
    "ax5.imshow(cv2.morphologyEx(Img2,cv2.MORPH_CLOSE,sElement))"
   ]
  },
  {
   "cell_type": "code",
   "execution_count": null,
   "metadata": {},
   "outputs": [],
   "source": [
    "Img3 = cv2.imread('wyspa.bmp', cv2.IMREAD_GRAYSCALE)\n",
    "f, (ax1,ax2,ax3,ax4,ax5) = plt.subplots(1,5,figsize=(25,25))\n",
    "ax1.imshow(Img3)\n",
    "ax2.imshow(dilation(Img3,sElement))\n",
    "ax3.imshow(erosion(Img3,sElement))\n",
    "ax4.imshow(cv2.morphologyEx(Img3,cv2.MORPH_OPEN,sElement))\n",
    "ax5.imshow(cv2.morphologyEx(Img3,cv2.MORPH_CLOSE,sElement))"
   ]
  },
  {
   "cell_type": "code",
   "execution_count": null,
   "metadata": {},
   "outputs": [],
   "source": [
    "Img4 = cv2.imread('kolka.bmp', cv2.IMREAD_GRAYSCALE)\n",
    "f, (ax1,ax2,ax3,ax4,ax5) = plt.subplots(1,5,figsize=(25,25))\n",
    "ax1.imshow(Img4)\n",
    "ax2.imshow(dilation(Img4,sElement))\n",
    "ax3.imshow(erosion(Img4,sElement))\n",
    "ax4.imshow(cv2.morphologyEx(Img4,cv2.MORPH_OPEN,sElement))\n",
    "ax5.imshow(cv2.morphologyEx(Img4,cv2.MORPH_CLOSE,sElement))"
   ]
  },
  {
   "cell_type": "code",
   "execution_count": null,
   "metadata": {},
   "outputs": [],
   "source": [
    "plt.imshow(cv2.morphologyEx((dilation(erosion(Img,sElement),sElement)),cv2.MORPH_CLOSE,sElement))"
   ]
  },
  {
   "cell_type": "code",
   "execution_count": null,
   "metadata": {},
   "outputs": [],
   "source": [
    "matrix2= [[0,1,0],\n",
    "          [1,1,1],\n",
    "          [0,1,0]]\n",
    "\n",
    "Img5 = cv2.imread('hom.bmp', cv2.IMREAD_GRAYSCALE)\n",
    "\n",
    "IResult = cv2.morphologyEx(Img5, cv2.MORPH_HITMISS, np.uint8(matrix2))\n",
    "\n",
    "f, (ax1,ax2) = plt.subplots(1,2,figsize=(25,25))\n",
    "ax1.imshow(Img5)\n",
    "ax2.imshow(IResult)"
   ]
  },
  {
   "cell_type": "markdown",
   "metadata": {},
   "source": [
    "## Inne operacje morfologiczne\n",
    "Do innych operacji morfologicznych należą między innymi ścienianie (ang. _thinning_), szkieletyzacja (ang. _skeletonization_), rekonstrukcja morfologiczna (ang. _morphological reconstruction_), czyszczenie brzegu (ang. _clearing border_) i uzupełnianie dziur (ang. _filling holes_). W tym rozdziale zostanie zaprezentowana rekonstrukcja morfologiczna.\n",
    "\n",
    "Rekonstrukcja morfologiczna jest operacją trójargumentową. Wymaga podania markera (obrazu, od którego zacznie się transformacja), maski (ograniczenia transformacji) oraz elementu strukturalnego. Operacja polega na wykonywaniu kroków (dopóki w dwóch kolejnych iteracjach nic się nie zmieni):\n",
    "- dylatacja obrazu markera (z danym elementem strukturalnym),\n",
    "- nowy marker = część wspólna dylatacji starego markera i maski.\n",
    "\n",
    "Trzy operacje, które wykorzystują schemat rekonstrukcji to: \n",
    "- otwarcie poprzez rekonstrukcję,\n",
    "- wypełnianie dziur,\n",
    "- czyszczenie brzegu.\n",
    "\n",
    "### Otwarcie poprzez rekonstrukcję:\n",
    "- Wczytaj obraz text.bmp, wyświetl go.\n",
    "- Załóżmy, że chcemy wykryć na obrazie litery, które zawierają długie pionowe fragmenty. W pierwszym podejściu stosujemy morfologiczne otwarcie z maską pionową o wysokości 51 pikseli (taka jest średnia wysokość liter na obrazie – `np.ones((51,1))`. Sprawdź rezultat takiej operacji.\n",
    "- Detekcja wprawdzie sie udała, ale otrzymujemy tylko pionowe kreski.\n",
    "- Rozwiązaniem jest rekonstrukcja – jako marker wybieramy obraz oryginalny poddany erozji. Maskę stanowi obraz oryginalny. Samodzielnie dobierz element strukturalny.\n",
    "- Zaimplementuj rekonstrukcję i porównaj efekt otwarcia i rekonstrukcji.\n"
   ]
  },
  {
   "cell_type": "code",
   "execution_count": null,
   "metadata": {},
   "outputs": [],
   "source": [
    "image = cv2.imread('text.bmp', cv2.IMREAD_GRAYSCALE)\n",
    "\n",
    "m = np.ones((51,1))\n",
    "I = cv2.morphologyEx(image,cv2.MORPH_OPEN,m)\n",
    "\n",
    "def resconstruction(marker, mask, element):\n",
    "    while True:\n",
    "        expanded = cv2.dilate(src=marker, kernel=kernel)\n",
    "        cv2.bitwise_and(expanded, mask, expanded)\n",
    "        if (marker == expanded).all():\n",
    "            return expanded\n",
    "        marker = expanded\n",
    "        \n",
    "    \n",
    "kernel = np.ones(shape=(1 * 2 + 1,) * 2, dtype=np.uint8)\n",
    "\n",
    "f, (ax1,ax2,ax3) = plt.subplots(1,3,figsize=(25,25))\n",
    "ax1.imshow(I)\n",
    "ax2.imshow(resconstruction(erosion(image,m),image,kernel))\n",
    "ax1.imshow(I)\n",
    "ax3.imshow(image)"
   ]
  },
  {
   "cell_type": "markdown",
   "metadata": {},
   "source": [
    "## Operacje morfologiczne dla obrazów w skali szarości\n",
    "\n",
    "Wszystkie dotychczasowe operacje (oprócz transformacji trafi, nie trafi) mają swoje odpowieniki dla obrazów w skali szarości. Konieczne jest tylko podanie definicji erozji i dylatacji w nieco innej formie:\n",
    "- Erozja – filtr minimalny.\n",
    "- Dylatacja – filtr maksymalny.\n",
    "\n",
    "\n",
    "1. Wczytaj obraz ferrari.bmp i wykonaj operacje morfologiczne: erozję i dylatację. Element strukturalny ustal na kwadrat 3×3. Oblicz też różnicę pomiędzy obrazem po dylatacji a po erozji – czyli tzw. gradient morfologiczny. Rezultaty wyświetl na wspólnym wykresie.\n",
    "2. Otwarcie to tłumienie jasnych detali na obrazie. Zamkniecie to tłumienie ciemnych detali na obrazie. Potwierdź powyższe stwierdzenia wykonując obie operacje na obrazie _ferrari_.\n",
    "3. Wykonaj operacje top-hat i bottom-hat `cv2.morphologyEx(img, cv2.MORPH_TOPHAT, strel)` oraz `cv2.morphologyEx(img, cv2.MORPH_BLACKHAT, strel)` na obrazie _ferrari_. Jakie obszary udało sie wykryć za pomocą tej operacji? Z jakich operacji składa sie filtr top-hat?\n",
    "4. Wczytaj obraz rice.png (z laboratorium o binaryzacji). Wyświetl go. Zwróć uwage na niejednorodne oświetlenie. Wykonaj operacje top-hat z dużym elementem strukturalnym (np. koło o rozmiarze 10) na tym obrazie. Wynik wyświetl. Co stało się z niejednorodnością oświetlenia?"
   ]
  },
  {
   "cell_type": "code",
   "execution_count": null,
   "metadata": {
    "pycharm": {
     "name": "#%%\n"
    }
   },
   "outputs": [],
   "source": [
    "image2 = cv2.imread('ferrari.bmp', cv2.IMREAD_GRAYSCALE)\n",
    "\n",
    "eroded = erosion(image2,np.ones((3,3)))\n",
    "dilated = dilation(image2,np.ones((3,3)))\n",
    "dif = dilated - eroded\n",
    "\n",
    "f, ([ax1, ax2,ax3],[ax4,ax5, ax6]) = plt.subplots(2,3, figsize = (15, 15))\n",
    "ax1.imshow(image2)\n",
    "ax2.imshow(dif)\n",
    "ax3.imshow(cv2.morphologyEx(image2, cv2.MORPH_OPEN, np.ones((3,3))))\n",
    "ax4.imshow(cv2.morphologyEx(image2, cv2.MORPH_CLOSE, np.ones((3,3))))\n",
    "ax5.imshow(cv2.morphologyEx(image2, cv2.MORPH_TOPHAT, np.ones((3,3))))\n",
    "ax6.imshow(cv2.morphologyEx(image2, cv2.MORPH_BLACKHAT, np.ones((3,3))))"
   ]
  },
  {
   "cell_type": "code",
   "execution_count": null,
   "metadata": {},
   "outputs": [],
   "source": [
    "image3 = cv2.imread('rice.png', cv2.IMREAD_GRAYSCALE)\n",
    "\n",
    "f, (ax1, ax2) = plt.subplots(1,2, figsize = (10, 10))\n",
    "ax1.imshow(image3)\n",
    "ax2.imshow(cv2.morphologyEx(image3, cv2.MORPH_TOPHAT, np.ones((10,10))))"
   ]
  },
  {
   "cell_type": "markdown",
   "metadata": {},
   "source": [
    "## Przykład zastosowania morfologii\n",
    "\n",
    "1. Wczytaj obraz calculator.bmp. Wyświetl go. Zadanie do realizacji: wyizolować tekst na klawiszach kalkulatora.\n",
    "2. W pierwszym kroku usunięte zostaną poziome odbicia znajdujące się na górnej krawędzi każdego z klawiszy. Wykorzystamy fakt, że odbicie jest dłuższe niż jakikolwiek pojedynczy znak. Wykonujemy otwarcie przez rekonstrukcję (można wykorzystać kod z wcześniejszego zadania, ale tym razem mamy do czynienia z obrazem w skali szarości zamiast z binarnym – proszę się zastanowić, jaka operacja jest odpowiednikiem operacji AND?):\n",
    "  - początkowo wykonujemy erozję z elementem strukturalnym w postaci poziomej linii — `np.ones((1,71))`,\n",
    "  - następnie dokonujemy rekonstrukcji: marker – obraz po erozji, maska – obraz oryginalny,\n",
    "  - wynik operacji wyświetl. Dla porównania wyświetl wynik klasycznego otwarcia z takim samym elementem strukturalnym. W czym otwarcie przez rekonstrukcję jest lepsze od klasycznego?\n",
    "3. W poprzednim kroku (tj. w wyniku otwarcia przez rekonstrukcję) uzyskaliśmy obraz tła. Należy go teraz odjąć od obrazu oryginalnego. Ten rodzaj operacji można nazwać top-hat poprzez rekonstrukcję. Wynik wyświetl. Dla porównania wyświetl wynik klasycznej operacji top-hat – różnicy miedzy obrazem oryginalnym a obrazem po klasycznym otwarciu.\n",
    "4. W podobny sposób należy zlikwidować odblaski pionowe:\n",
    "  - erozja z elementem strukturalnym w postaci poziomej linii – `np.ones((1,11))` – zostaną zachowane wszystkie znaki (bo prawie wszystkie są szersze). Uwaga. Operacje wykonujemy na uzyskanym w kroku 3 rezultacie odjęcia od obrazu oryginalnego, obrazu po rekonstrukcji.\n",
    "  - rekonstrukcja: marker – obraz po erozji, maska – obraz z punktu 3 (różnica oryginalnego i tła),\n",
    "  - wynik wyświetl.\n",
    "5. Rezultat jest niemal satysfakcjonujący, ale wystąpił problem z cienkimi pionowymi elementami napisów – np. I na klawiszu ASIN. Wykorzystując fakt, że usunięte znaki znajdują się w bezpośrednim sąsiedztwie istniejących znaków wykonujemy następujące operacje:\n",
    "  - dylatacja z elementem `np.ones((1,21))`,\n",
    "  - rekonstrukcja z markerem w postaci – minimum(obraz po dylatacji z punktu powyżej, obraz uzyskany w punkcie 3, tj. różnica oryginalnego i tła) oraz maską – obraz z pkt. 3.\n",
    "6. Rezultat wyświetl. Czy za pomocą zaproponowanych operacji udało się uzyskać zamierzony efekt – ekstrakcję napisów?\n"
   ]
  },
  {
   "cell_type": "code",
   "execution_count": null,
   "metadata": {
    "pycharm": {
     "name": "#%%\n"
    }
   },
   "outputs": [],
   "source": [
    "image4 = cv2.imread('calculator.bmp', cv2.IMREAD_GRAYSCALE)\n",
    "\n",
    "def resconstruction2(marker, mask, element):\n",
    "    while True:\n",
    "        expanded = cv2.dilate(src=marker, kernel=element)\n",
    "        expanded = cv2.min(expanded,mask)\n",
    "        if (marker == expanded).all():\n",
    "            return expanded\n",
    "        marker = expanded\n",
    "        \n",
    "kernel = np.ones(shape=(3,) * 2, dtype=np.uint8)     \n",
    "\n",
    "Ig = resconstruction2(erosion(image4,np.ones((1,71))),image4,kernel)\n",
    "Iclas = cv2.morphologyEx(image4,cv2.MORPH_OPEN,np.ones((1,71)))\n",
    "\n",
    "f, (ax1, ax2,ax3) = plt.subplots(1,3, figsize = (20, 20))\n",
    "ax1.imshow(image4)\n",
    "ax2.imshow(Ig)\n",
    "ax3.imshow(Iclas)\n",
    "\n",
    "result = image4 -Ig\n",
    "resultClas = image4 - Iclas \n",
    "\n",
    "f, (ax1, ax2,ax3) = plt.subplots(1,3, figsize = (20, 20))\n",
    "ax1.imshow(image4)\n",
    "ax2.imshow(result)\n",
    "ax3.imshow(resultClas)\n",
    "\n",
    "R =  resconstruction2(erosion(result,np.ones((1,11))),result,kernel)\n",
    "R2 = dilation(R,np.ones((1,21)))\n",
    "dif = cv2.min(R2,result)\n",
    "R3 = resconstruction2(R2,result,kernel)\n",
    "f, (ax1, ax2,ax3) = plt.subplots(1,3, figsize = (20, 20))\n",
    "ax1.imshow(R)\n",
    "ax2.imshow(R2)\n",
    "ax3.imshow(R3)"
   ]
  },
  {
   "cell_type": "markdown",
   "metadata": {},
   "source": [
    "## Zadanie domowe: morfologiczna gra w życie – John Conway\n",
    "\n",
    "### Wykorzystanie operacji LUT w przekształceniu trafi, nie trafi\n",
    "  - Szybszą metodą wykonania transformacji trafi, nie trafi może być operacja LUT.\n",
    "  - Technika polega na zakodowaniu wyników wszystkich interesujących  konfiguracji, a następnie podczas przetwarzania wykorzystania operacji LUT.\n",
    "  - Dla otoczenia 3x3 możliwe jest 512 różnych konfiguracji.\n",
    "  - Aby praktycznie zrealizować operacje, każdej konfiguracji należy nadać unikalny indeks. Jedną z możliwości jest pomnożenie elementu strukturalnego przez macierz (mnożenie odpowiednich elementów):\n",
    "  ```\n",
    "  [[1, 8,  64],\n",
    "   [ 2, 16, 128],\n",
    "   [ 4, 32, 256]]\n",
    "  ```\n",
    "  Przykładowo elementowi:\n",
    "  ```\n",
    "  [[1, 1, 0],\n",
    "   [ 1, 0, 1],\n",
    "   [ 1, 0, 1]]\n",
    "  ```\n",
    "  odpowiada liczba: 1(1) + 2(1) + 4(1) + 8(1) + 128(1) + 256(1) = 399.\n",
    "  \n",
    "### Przykład działania metody – detekcja punktów końcowych na obrazie.\n",
    "  - założenie: punkt końcowy to punkt, który ma dokładnie jednego sąsiada,\n",
    "  - zdefiniuj funkcję, która jako argument pobiera otoczenie, a zwraca 0 lub 1 w zależności od tego, czy rozpatrywany punkt jest końcowy np. dla sąsiedztwa 3×3 punkt będzie końcowy, jeżeli jest zapalony i ma tylko jednego sąsiada (czyli suma pikseli jest równa 2).\n",
    "  - wygeneruj przekodowanie LUT.\n",
    "  - wczytaj obraz szkielet.bmp (należy go przekształcić, aby uzyskać dwuwymiarową tablicę o wartościach 0-1). Wykorzystując wygenerowane przekodowanie LUT wykonaj detekcję zakończeń. Wyświetl obraz oryginalny i po przekodowaniu LUT.\n",
    "\n",
    "### Gra w życie\n",
    "\n",
    "Reguły gry w życie:\n",
    "  - każdy piksel biały, który ma dwóch lub trzech sąsiadów (białych) przeżywa,\n",
    "  - każdy piksel biały, który ma 0,1 lub więcej niż trzech sąsiadów (białych) nie przeżywa (głód lub przeludnienie),\n",
    "  - jeżeli jakieś pole (czarne) sąsiaduje dokładnie z trzema pikselami białymi, to na tym polu ,,rodzi'' się nowy piksel biały.\n",
    "\n",
    "Zadanie:\n",
    "  - za pomocą mechanizmu LUT (opisanego wcześniej) należy zaimplementować morfologiczną gre w życie,\n",
    "  - najważniejszym elementem jest funkcja opisująca reguły gry,\n",
    "  - symulacje należny przeprowadzić dla plansz dostarczonych w pliku gra.py,\n",
    "  - dobrze jest wykonać kilka iteracji – zobaczyć jak zmienia się kształt,\n",
    "  - inne ciekawe kształty do znalezienia w internecie.\n"
   ]
  },
  {
   "cell_type": "code",
   "execution_count": null,
   "metadata": {},
   "outputs": [],
   "source": [
    "def bin(img, threshold):\n",
    "    binImg = img >threshold\n",
    "    return binImg.astype(np.int)\n",
    "\n",
    "def lutFun(window):\n",
    "    return window[1,1] and (np.sum(window) == 2)\n",
    "\n",
    "def lut(image):\n",
    "    X, Y = image.shape\n",
    "    result = np.zeros(image.shape)\n",
    "\n",
    "    for i in range(1, X-1):\n",
    "        for j in range(1, Y-1):\n",
    "            env = image[(-1 + i) : (i + 2), (-1 +j) : (j + 2)]\n",
    "            result[i,j] = lutFun(env)\n",
    "    return result\n"
   ]
  },
  {
   "cell_type": "code",
   "execution_count": null,
   "metadata": {
    "pycharm": {
     "name": "#%%\n"
    },
    "scrolled": true
   },
   "outputs": [],
   "source": [
    "image = cv2.imread('szkielet.bmp', cv2.IMREAD_GRAYSCALE)\n",
    "binImage = bin(image, 100)\n",
    "plt.gray()\n",
    "\n",
    "\n",
    "result= lut(binImage)\n",
    "\n",
    "f,(ax1, ax2) = plt.subplots(1,2, figsize = (15, 15))\n",
    "ax1.imshow(binImage)\n",
    "ax2.imshow(result)\n"
   ]
  },
  {
   "cell_type": "code",
   "execution_count": null,
   "metadata": {},
   "outputs": [],
   "source": [
    "plansza1 = np.array([[0, 0, 0, 0, 0, 0, 0, 0, 0, 0],\n",
    "       [0, 0, 0, 0, 0, 0, 0, 0, 0, 0],\n",
    "       [0, 0, 0, 1, 0, 0, 1, 0, 0, 0],\n",
    "       [0, 0, 0, 1, 1, 1, 1, 0, 0, 0],\n",
    "       [0, 0, 1, 0, 0, 0, 0, 1, 0, 0],\n",
    "       [0, 0, 1, 0, 1, 1, 0, 1, 0, 0],\n",
    "       [0, 0, 1, 0, 0, 0, 0, 1, 0, 0],\n",
    "       [0, 0, 0, 1, 1, 1, 1, 0, 0, 0],\n",
    "       [0, 0, 0, 0, 0, 0, 0, 0, 0, 0],\n",
    "       [0, 0, 0, 0, 0, 0, 0, 0, 0, 0]], dtype='uint8')\n",
    "\n",
    "plansza2 = np.array([[0, 1, 0, 0, 0, 0, 0, 0, 0, 0, 0, 0, 0, 0, 1, 1],\n",
    "       [0, 0, 1, 0, 0, 0, 0, 0, 0, 0, 0, 0, 0, 0, 1, 1],\n",
    "       [1, 1, 1, 0, 0, 0, 0, 0, 0, 0, 0, 0, 0, 0, 0, 0],\n",
    "       [0, 0, 0, 0, 0, 0, 0, 0, 0, 0, 0, 0, 0, 0, 0, 0],\n",
    "       [0, 0, 0, 0, 0, 0, 0, 0, 0, 0, 0, 0, 0, 0, 0, 0],\n",
    "       [0, 0, 0, 0, 0, 0, 0, 0, 0, 0, 0, 0, 0, 0, 0, 0],\n",
    "       [0, 0, 0, 0, 0, 0, 0, 0, 0, 0, 0, 0, 0, 0, 0, 0],\n",
    "       [0, 0, 0, 0, 0, 0, 0, 0, 0, 0, 0, 0, 0, 0, 0, 0],\n",
    "       [0, 0, 0, 0, 0, 0, 0, 0, 0, 0, 0, 0, 0, 0, 0, 0],\n",
    "       [0, 0, 0, 0, 0, 0, 0, 0, 0, 0, 0, 0, 0, 0, 0, 0],\n",
    "       [0, 0, 0, 0, 0, 0, 0, 0, 0, 0, 0, 0, 0, 0, 0, 0],\n",
    "       [0, 0, 0, 0, 0, 0, 0, 0, 0, 0, 0, 0, 0, 0, 0, 0],\n",
    "       [0, 0, 0, 0, 0, 0, 0, 0, 0, 0, 0, 0, 0, 0, 0, 0]], dtype='uint8')"
   ]
  },
  {
   "cell_type": "code",
   "execution_count": null,
   "metadata": {},
   "outputs": [],
   "source": [
    "def game(env):\n",
    "    if(env[1,1]):\n",
    "        envSum = np.sum(env) - 1\n",
    "        result = (envSum == 2 or envSum == 3)\n",
    "    else:\n",
    "        envSum = np.sum(env)\n",
    "        result = envSum == 3;  \n",
    "    return result\n",
    "\n",
    "\n",
    "def lutGame(image):\n",
    "    X, Y = image.shape\n",
    "    result = np.zeros(image.shape)\n",
    "    for i in range(1, X-1):\n",
    "        for j in range(1, Y-1):\n",
    "            env = image[(-1 + i) : (i + 2), (-1 +j) : (j + 2)]\n",
    "            result[i,j] = game(env)\n",
    "    return result"
   ]
  },
  {
   "cell_type": "code",
   "execution_count": null,
   "metadata": {},
   "outputs": [],
   "source": [
    "f,([ax1,ax2,ax3],[ax4,ax5,ax6])= plt.subplots(2,3, figsize = (15, 15))\n",
    "\n",
    "ax1.imshow(plansza1)\n",
    "ax2.imshow(lutGame(plansza1))\n",
    "ax3.imshow(lutGame(lutGame(plansza1)))\n",
    "ax4.imshow(lutGame(lutGame(lutGame(plansza1))))\n",
    "ax5.imshow(lutGame(lutGame(lutGame(lutGame(plansza1)))))\n",
    "ax6.imshow(lutGame(lutGame(lutGame(lutGame(lutGame(plansza1))))))"
   ]
  },
  {
   "cell_type": "code",
   "execution_count": null,
   "metadata": {},
   "outputs": [],
   "source": [
    "f,([ax1,ax2,ax3],[ax4,ax5,ax6])= plt.subplots(2,3, figsize = (15, 15))\n",
    "\n",
    "ax1.imshow(plansza2)\n",
    "ax2.imshow(lutGame(plansza2))\n",
    "ax3.imshow(lutGame(lutGame(plansza2)))\n",
    "ax4.imshow(lutGame(lutGame(lutGame(plansza2))))\n",
    "ax5.imshow(lutGame(lutGame(lutGame(lutGame(plansza2)))))\n",
    "ax6.imshow(lutGame(lutGame(lutGame(lutGame(lutGame(plansza2))))))"
   ]
  }
 ],
 "metadata": {
  "celltoolbar": "Raw Cell Format",
  "kernelspec": {
   "display_name": "Python 3",
   "language": "python",
   "name": "python3"
  },
  "language_info": {
   "codemirror_mode": {
    "name": "ipython",
    "version": 3
   },
   "file_extension": ".py",
   "mimetype": "text/x-python",
   "name": "python",
   "nbconvert_exporter": "python",
   "pygments_lexer": "ipython3",
   "version": "3.8.3"
  }
 },
 "nbformat": 4,
 "nbformat_minor": 4
}
